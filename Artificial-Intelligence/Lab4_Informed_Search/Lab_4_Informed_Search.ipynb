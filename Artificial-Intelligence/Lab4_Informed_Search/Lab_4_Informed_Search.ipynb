{
 "cells": [
  {
   "cell_type": "markdown",
   "id": "b103c5ea",
   "metadata": {
    "deletable": false,
    "editable": false,
    "nbassignment": {
     "type": "header"
    },
    "nbgrader": {
     "cell_type": "markdown",
     "checksum": "471a197366a5b9930a8bb565122cf09c",
     "grade": false,
     "grade_id": "HeaderA",
     "locked": true,
     "schema_version": 3,
     "solution": false,
     "task": false
    }
   },
   "source": [
    "# Artificial Intelligence for Robotics 04\n",
    "\n",
    "## General Information:\n",
    "Please do not add or delete any cells. Answers belong into the corresponding cells (below the question). If a function is given (either as a signature or a full function), you should not change the name, arguments or return value of the function.\n",
    "\n",
    "If you encounter empty cells underneath the answer that can not be edited, please ignore them, they are for testing purposes.\n",
    "\n",
    "When editing an assignment there can be the case that there are variables in the kernel. To make sure your assignment works, please restart the kernel and run all cells before submitting (e.g. via Kernel -> Restart & Run All).\n",
    "\n",
    "Code cells where you are supposed to give your answer often include the line `raise NotImplementedError`. This makes it easier to automatically grade answers. If you edit the cell please outcomment or delete this line.\n",
    "\n",
    "## Submission:\n",
    "Please submit your notebook via the web interface (in the main view -> Assignments -> Submit). The assignments are **due on Monday at 20:00**.\n",
    "\n",
    "## Group Work:\n",
    "Please enter your UID (your username here) and those of your group partners into the next cell. We apply plagiarism checking, so do not submit others solutions! If an assignment has a copied solution, the task will be graded with 0 points for all people with the same solution.\n",
    "\n",
    "## Questions about the Assignment:\n",
    "If you have questions about the assignment please post them in the LEA forum before the deadline. Don't wait until the last day to post questions!"
   ]
  },
  {
   "cell_type": "markdown",
   "id": "269910cd",
   "metadata": {
    "deletable": false,
    "editable": false,
    "nbassignment": {
     "type": "header"
    },
    "nbgrader": {
     "cell_type": "markdown",
     "checksum": "93d376da99c86b4fabd2542101dc5ec7",
     "grade": false,
     "grade_id": "cell-4a94f4450f12f33c",
     "locked": true,
     "schema_version": 3,
     "solution": false,
     "task": false
    }
   },
   "source": [
    "### Please add the usernames of all your team members in the manner member1, member2 in next cell (example given below)\n",
    "\n",
    "member1 = 'example'\n",
    "\n",
    "member2 = 'example2'\n",
    "\n",
    "#### If you are not working in a group, then please add member2 as none2s"
   ]
  },
  {
   "cell_type": "code",
   "execution_count": 25,
   "id": "72243e7a",
   "metadata": {
    "ExecuteTime": {
     "end_time": "2024-11-09T14:11:45.557204Z",
     "start_time": "2024-11-09T14:11:45.549446Z"
    },
    "deletable": false,
    "nbassignment": {
     "type": "group_info"
    },
    "nbgrader": {
     "cell_type": "code",
     "checksum": "2ef735ca9199180a82193d39df17789b",
     "grade": false,
     "grade_id": "cell-a9c2f4587c671f98",
     "locked": false,
     "schema_version": 3,
     "solution": true,
     "task": false
    }
   },
   "outputs": [],
   "source": [
    "# YOUR CODE HERE\n",
    "member1 = 'ahoosh2s'\n",
    "member2 = 'anuhel2s'\n",
    "#raise NotImplementedError()"
   ]
  },
  {
   "cell_type": "code",
   "execution_count": 26,
   "id": "58d35b9d",
   "metadata": {
    "ExecuteTime": {
     "end_time": "2024-11-09T14:11:49.801996Z",
     "start_time": "2024-11-09T14:11:49.792235Z"
    },
    "deletable": false,
    "editable": false,
    "nbassignment": {
     "type": "header"
    },
    "nbgrader": {
     "cell_type": "code",
     "checksum": "90856a52a0162f78566c398792f29a27",
     "grade": true,
     "grade_id": "cell-e27ced94e387fe18",
     "locked": true,
     "points": 0,
     "schema_version": 3,
     "solution": false,
     "task": false
    }
   },
   "outputs": [
    {
     "name": "stdout",
     "output_type": "stream",
     "text": [
      "All tests passed!\n"
     ]
    }
   ],
   "source": [
    "# Execute this cell to make sure you correctly filled in the usernames of the team members\n",
    "\n",
    "def group_name_test():\n",
    "    for member_id in [member1, member2]:\n",
    "        assert isinstance(member_id, str), \"Please give your member id as a string.\"\n",
    "        assert len(member_id) > 0, \"You need to fill in the member id for both members\"\n",
    "        assert member_id.endswith(\"2s\"), \"The member id should end with 2s (Your JupyterHub username)\"\n",
    "\n",
    "group_name_test() \n",
    "print(\"All tests passed!\")"
   ]
  },
  {
   "cell_type": "markdown",
   "id": "2006b00e",
   "metadata": {
    "deletable": false,
    "editable": false,
    "nbgrader": {
     "cell_type": "markdown",
     "checksum": "032bd9da136e780c7bdbe3a7ac2c9737",
     "grade": false,
     "grade_id": "taskheader_1",
     "locked": true,
     "schema_version": 3,
     "solution": false,
     "task": false
    }
   },
   "source": [
    "# Task 1\n",
    "\n",
    "**[18 Point(s)]**"
   ]
  },
  {
   "cell_type": "markdown",
   "id": "db2cf756",
   "metadata": {
    "deletable": false,
    "editable": false,
    "nbgrader": {
     "cell_type": "markdown",
     "checksum": "b50d04407354a2c11ad554fc64a84873",
     "grade": false,
     "grade_id": "Astar_theory_AAstar_theory_BAstar_theory_CAstar_theory_DAstar_theory_EAstar_theory_F_Header",
     "locked": true,
     "schema_version": 3,
     "solution": false,
     "task": false
    }
   },
   "source": [
    "\n",
    "# A* Theory [20 Points]\n",
    "\n",
    "During the lecture, you have learned about the A* search algorithm and its propoerties. Please answere the following questions short and consice and be as precise as possible.\n"
   ]
  },
  {
   "cell_type": "markdown",
   "id": "94c0fd68",
   "metadata": {
    "deletable": false,
    "editable": false,
    "nbgrader": {
     "cell_type": "markdown",
     "checksum": "48cd198795a66beef1f4898055bdc8a9",
     "grade": false,
     "grade_id": "taskheader_1_1",
     "locked": true,
     "schema_version": 3,
     "solution": false,
     "task": false
    }
   },
   "source": [
    "## Task 1.1\n",
    "\n",
    "**[2 Point(s)]**"
   ]
  },
  {
   "cell_type": "markdown",
   "id": "2ba2679e",
   "metadata": {
    "deletable": false,
    "editable": false,
    "nbgrader": {
     "cell_type": "markdown",
     "checksum": "5f00609874ce5e2602c44fa97c298aa9",
     "grade": false,
     "grade_id": "Astar_theory_A_Description0",
     "locked": true,
     "schema_version": 3,
     "solution": false,
     "task": false
    }
   },
   "source": [
    "### Completeness [2 Points]\n",
    "\n",
    "How is the *completeness* of an algorithm defined? Is A* complete?"
   ]
  },
  {
   "cell_type": "markdown",
   "id": "75017f23",
   "metadata": {
    "deletable": false,
    "nbgrader": {
     "cell_type": "markdown",
     "checksum": "4d11957ccfd3202e70e69f07f27329ee",
     "grade": true,
     "grade_id": "Astar_theory_A",
     "locked": false,
     "points": 2,
     "schema_version": 3,
     "solution": true,
     "task": false
    }
   },
   "source": [
    "A* is complete if the heuristic function is admissible, meaning that the cost considered by the heuristic function is never more that the actual cost. Additionally, completeness of A* relies upon the search space which should finite. \n",
    "\n",
    "There are times when the search space is infinite, and in such a suituation only if the heuristic fucntion is both admissible and consistent can it claim to be complete."
   ]
  },
  {
   "cell_type": "markdown",
   "id": "65df91b8",
   "metadata": {
    "deletable": false,
    "editable": false,
    "nbgrader": {
     "cell_type": "markdown",
     "checksum": "ee7c3397eaabfa4e923bb5df24f6a5ad",
     "grade": false,
     "grade_id": "taskheader_1_2",
     "locked": true,
     "schema_version": 3,
     "solution": false,
     "task": false
    }
   },
   "source": [
    "## Task 1.2\n",
    "\n",
    "**[2 Point(s)]**"
   ]
  },
  {
   "cell_type": "markdown",
   "id": "1e743707",
   "metadata": {
    "deletable": false,
    "editable": false,
    "nbgrader": {
     "cell_type": "markdown",
     "checksum": "d79eb8818b255e240400290cf5ff357f",
     "grade": false,
     "grade_id": "Astar_theory_B_Description0",
     "locked": true,
     "schema_version": 3,
     "solution": false,
     "task": false
    }
   },
   "source": [
    "### Soundness [2 Points]\n",
    "\n",
    "When is an algorithm be considered *sound*? Is A* sound?"
   ]
  },
  {
   "cell_type": "markdown",
   "id": "1b5fb6f9",
   "metadata": {
    "deletable": false,
    "nbgrader": {
     "cell_type": "markdown",
     "checksum": "0766b458b85ea85599bf2d886c0d3d6c",
     "grade": true,
     "grade_id": "Astar_theory_B",
     "locked": false,
     "points": 2,
     "schema_version": 3,
     "solution": true,
     "task": false
    }
   },
   "source": [
    "A sound algorithm never allows in a wrong answer into the set of right answers, so the results of such an algorithm can always be trusted. However, in some cases a sound algorithm may not provide an answer. For this reason, if the heuristic function is admissible meaning that it never overestimates the cost of paths to the goal, and along with it is consistent which guarantees that no other path will reuslt in a more optimal traveral cost, it is definitely sound. In other words, if the hueristic fcuntion is both admissible and consistent, A* renders the optimal path to the goal in terms of cost. "
   ]
  },
  {
   "cell_type": "markdown",
   "id": "78775d69",
   "metadata": {
    "deletable": false,
    "editable": false,
    "nbgrader": {
     "cell_type": "markdown",
     "checksum": "873ea545ac6554d97eb5450d62283af5",
     "grade": false,
     "grade_id": "taskheader_1_3",
     "locked": true,
     "schema_version": 3,
     "solution": false,
     "task": false
    }
   },
   "source": [
    "## Task 1.3\n",
    "\n",
    "**[2 Point(s)]**"
   ]
  },
  {
   "cell_type": "markdown",
   "id": "643ca9d8",
   "metadata": {
    "deletable": false,
    "editable": false,
    "nbgrader": {
     "cell_type": "markdown",
     "checksum": "39789eb36834d846e3a244ea16ee7f62",
     "grade": false,
     "grade_id": "Astar_theory_C_Description0",
     "locked": true,
     "schema_version": 3,
     "solution": false,
     "task": false
    }
   },
   "source": [
    "### Termination [2 Points]\n",
    "\n",
    "When does A* end the search process?"
   ]
  },
  {
   "cell_type": "markdown",
   "id": "db83f759",
   "metadata": {
    "deletable": false,
    "nbgrader": {
     "cell_type": "markdown",
     "checksum": "bc9526cac3d8a8f4b52693242a0658c3",
     "grade": true,
     "grade_id": "Astar_theory_C",
     "locked": false,
     "points": 2,
     "schema_version": 3,
     "solution": true,
     "task": false
    }
   },
   "source": [
    "A* generally terminates when it finds the optimal most cost-efficient path from the initial state to the goal. Upon termination, it guarantees that no other path is more optimal than the one found by the algorithm, assuming that the heuristic fucntion fulfil the requirements of admissibility and consistency.  "
   ]
  },
  {
   "cell_type": "markdown",
   "id": "a525b4cb",
   "metadata": {
    "deletable": false,
    "editable": false,
    "nbgrader": {
     "cell_type": "markdown",
     "checksum": "e389341d43e628e2d0514d78208c46fb",
     "grade": false,
     "grade_id": "taskheader_1_4",
     "locked": true,
     "schema_version": 3,
     "solution": false,
     "task": false
    }
   },
   "source": [
    "## Task 1.4\n",
    "\n",
    "**[5 Point(s)]**"
   ]
  },
  {
   "cell_type": "markdown",
   "id": "99fdda0a",
   "metadata": {
    "deletable": false,
    "editable": false,
    "nbgrader": {
     "cell_type": "markdown",
     "checksum": "1733407bbe1f9d2cee1eb0cd222ed9c0",
     "grade": false,
     "grade_id": "Astar_theory_D_Description0",
     "locked": true,
     "schema_version": 3,
     "solution": false,
     "task": false
    }
   },
   "source": [
    "### Optimality [5 Points]\n",
    "\n",
    "What does it mean when we say an algorithm is *optimal*? What are the criteria that have to be met in order for A* to be *optimal*? Provide an argument or proof on why this is required."
   ]
  },
  {
   "cell_type": "markdown",
   "id": "f432cb6e",
   "metadata": {
    "deletable": false,
    "nbgrader": {
     "cell_type": "markdown",
     "checksum": "f3855f33e1149fd2b273da9c121ae74c",
     "grade": true,
     "grade_id": "Astar_theory_D",
     "locked": false,
     "points": 5,
     "schema_version": 3,
     "solution": true,
     "task": false
    }
   },
   "source": [
    "Optimality is an attribute of an algorithm which ensures that a solution provided by it is always the lowest in terms of cost. For A* to be optimal, the huersitic fuction should be both admissible and consistent.\n",
    "\n",
    "Admissibility:\n",
    "\n",
    "The huersitic should never overestimate the cost of traversal from a given node - n to the goal\n",
    "\n",
    "h(n) <= h*(n)\n",
    "\n",
    "wheren h*(n) is the actual cost of node -n to the goal\n",
    "\n",
    "If the heuristic fucntion everestimates the actual cost and, in other words, exceeds it, then path found by the heuristic fucntion could be even greater than the optimal path to the goal, meaning that a non-optimal path is allowed into consideration.\n",
    "\n",
    "Consistency:\n",
    "\n",
    "If we consider n' as a successor of n and the cost of n to n' is shown as c(n,n') the heuristic fucntion of h(n) should always fulfil the following relation\n",
    "\n",
    "h(n) <= c(n,n') + h(n')\n",
    "\n",
    "This ensures that the sub path selected by A* is always optimal, too and there is no risk of losing sight of a lowest cost sub path from every successor. This also shows that the heuristic fucntion is never descending along the path from intial state to the goal. "
   ]
  },
  {
   "cell_type": "markdown",
   "id": "e57607ae",
   "metadata": {
    "deletable": false,
    "editable": false,
    "nbgrader": {
     "cell_type": "markdown",
     "checksum": "4dc7dd3e3be67af48424a153df751860",
     "grade": false,
     "grade_id": "taskheader_1_5",
     "locked": true,
     "schema_version": 3,
     "solution": false,
     "task": false
    }
   },
   "source": [
    "## Task 1.5\n",
    "\n",
    "**[5 Point(s)]**"
   ]
  },
  {
   "cell_type": "markdown",
   "id": "814ff0b4",
   "metadata": {
    "deletable": false,
    "editable": false,
    "nbgrader": {
     "cell_type": "markdown",
     "checksum": "8c2103920b133fa1f8218d1b27dff2eb",
     "grade": false,
     "grade_id": "Astar_theory_E_Description0",
     "locked": true,
     "schema_version": 3,
     "solution": false,
     "task": false
    }
   },
   "source": [
    "### Time Complexity [5 Points]\n",
    "\n",
    "What is the time complexity of A*? Explain, or derive mathematically! Just writing $O(...)$ is not sufficient!"
   ]
  },
  {
   "cell_type": "markdown",
   "id": "b5aed417",
   "metadata": {
    "deletable": false,
    "nbgrader": {
     "cell_type": "markdown",
     "checksum": "978f15cbaba97b47d935fc381532ae64",
     "grade": true,
     "grade_id": "Astar_theory_E",
     "locked": false,
     "points": 5,
     "schema_version": 3,
     "solution": true,
     "task": false
    }
   },
   "source": [
    "There are different situations where Big O notation is defined for the A* search algorithm.\n",
    "\n",
    "Let's considered the following relation:\n",
    "\n",
    "f(n) = h(n) + g(n)\n",
    "\n",
    "if h(n)=0 so the the actual cost of node n is considered, resulting in A* functioning like Uniform Cost Search in which the brancing factor, b, and the shallowest possible depth to the goal, d, play a role in determining the worst time complexity.\n",
    "\n",
    "In such a case time complexity of A* is exponential:\n",
    "\n",
    "O(b to the power of d)\n",
    "\n",
    "Let's imagine that the heuristic function is perfectly equal to the actual cost:\n",
    "\n",
    "h(n) = h*(n)\n",
    "\n",
    "In this case, only the nodes on the optimal path will be taken into consideration, avoiding the other successors. Therefore, the shollowest depth to the solution is of significance in the caculation of Big O notation, so \n",
    "\n",
    "O(d) is the worst case scenario in terms of search time.\n",
    "\n",
    "Last but not least is when the heuristic function is admissible and consistent:\n",
    "\n",
    "In such a case, C* = h(n) + g(n) \n",
    "\n",
    "C* is the optimal bath to the goal, so all the nodes where f(n) <= C* are exanded, resulting in an exponential search space.\n",
    "\n",
    "Here we need to consider the minimum step cost to come up with an estimate for the number of nodes exanded at each depth level\n",
    "\n",
    "let's say that E is the minimum actual cost from between to candidate nodes, hence the number of each number nodes exanded at each level could C*/E\n",
    "\n",
    "Then as  it a tree seacrh space then the Big O is:\n",
    "\n",
    "O(braching factor to the power of depth)\n",
    "\n",
    "and then it is\n",
    "\n",
    "O (b ^ C*/E)"
   ]
  },
  {
   "cell_type": "markdown",
   "id": "9b89a0d0",
   "metadata": {
    "deletable": false,
    "editable": false,
    "nbgrader": {
     "cell_type": "markdown",
     "checksum": "99bac3980c06bfe689cc8fab3452cdb2",
     "grade": false,
     "grade_id": "taskheader_1_6",
     "locked": true,
     "schema_version": 3,
     "solution": false,
     "task": false
    }
   },
   "source": [
    "## Task 1.6\n",
    "\n",
    "**[2 Point(s)]**"
   ]
  },
  {
   "cell_type": "markdown",
   "id": "55946691",
   "metadata": {
    "deletable": false,
    "editable": false,
    "nbgrader": {
     "cell_type": "markdown",
     "checksum": "5577fb881b25fef18afefb6a6a41b4e4",
     "grade": false,
     "grade_id": "Astar_theory_F_Description0",
     "locked": true,
     "schema_version": 3,
     "solution": false,
     "task": false
    }
   },
   "source": [
    "### Consistency of a Heuristic [2 Points]\n",
    "\n",
    "How is a consistent heuristic defined? Why is it a critical property in the context of the A* search algorithm?"
   ]
  },
  {
   "cell_type": "markdown",
   "id": "b18d8245",
   "metadata": {
    "deletable": false,
    "nbgrader": {
     "cell_type": "markdown",
     "checksum": "592f4f27e8ec491342823791996cd045",
     "grade": true,
     "grade_id": "Astar_theory_F",
     "locked": false,
     "points": 2,
     "schema_version": 3,
     "solution": true,
     "task": false
    }
   },
   "source": [
    "Consistency:\n",
    "\n",
    "If we consider n' as a successor of n and the cost of n to n' is shown as c(n,n') the heuristic fucntion of h(n) should always fulfil the following relation\n",
    "\n",
    "h(n) <= c(n,n') + h(n')\n",
    "\n",
    "This ensures that the sub path selected by A* is always optimal, too and there is no risk of losing sight of a lowest cost sub path from every successor. This also shows that the heuristic fucntion is never descending along the path from intial state to the goal.\n",
    "\n",
    "Therefore, this ensures that for every child of the current path the most optimal sub-path will be selected by the A* algorithm, provided that the heuristic function is consistent, thereby satisfying the above criterion."
   ]
  },
  {
   "cell_type": "markdown",
   "id": "4c1254ec",
   "metadata": {
    "deletable": false,
    "editable": false,
    "nbgrader": {
     "cell_type": "markdown",
     "checksum": "346986097e5dec859b0f5d725051d93c",
     "grade": false,
     "grade_id": "taskheader_2",
     "locked": true,
     "schema_version": 3,
     "solution": false,
     "task": false
    }
   },
   "source": [
    "# Task 2\n",
    "\n",
    "**[50 Point(s)]**"
   ]
  },
  {
   "cell_type": "markdown",
   "id": "3b6e63e8",
   "metadata": {
    "deletable": false,
    "editable": false,
    "nbgrader": {
     "cell_type": "markdown",
     "checksum": "2c0867a9e21d6606025ce6483e400f60",
     "grade": false,
     "grade_id": "Astar_implementation_AAstar_implementation_BAstar_implementation_CAstar_implementation_DAstar_implementation_EAstar_implementation_F_Header",
     "locked": true,
     "schema_version": 3,
     "solution": false,
     "task": false
    }
   },
   "source": [
    "# Applying Informed Search [60 Points]\n",
    "\n",
    "Informed methods help us gain information about solving a problem through its current state space. This keeps a program from blundering around blindly guessing. Informed search strategies make use of information about the path of moves we took to get where we are currently by using an *evaluation function*. This evaluation function often makes use of a *heuristic function*, that provides an estimate of the distance of a node to the goal in a relaxed version of the problem.\n",
    "\n",
    "# A Real World Problem\n",
    "\n",
    "Consider a robot that works in a warehouse. The robot can carry packages on top of itself on a set of omnidirectional conveyors. It can carry a maximum of 8 packages in a 3x3 grid, with one spot left open. There is a slot from which the robot can dispense packages onto shelves. The robot must deposit the packages in order, so they must be lined up in a certain order near the slot. However, workers place the packages onto the robot randomly. Therefore, the robot must first sort the packages before depositing them. It can use the free space and the conveyors to shift the packages horizontally and vertically. \n",
    "\n",
    "## This becomes what is known as the 8 puzzle."
   ]
  },
  {
   "cell_type": "markdown",
   "id": "33392e4d",
   "metadata": {
    "deletable": false,
    "editable": false,
    "nbgrader": {
     "cell_type": "markdown",
     "checksum": "77ca0a2f6f60fe6d99a7a11411ef627f",
     "grade": false,
     "grade_id": "taskheader_2_1",
     "locked": true,
     "schema_version": 3,
     "solution": false,
     "task": false
    }
   },
   "source": [
    "## Task 2.1\n",
    "\n",
    "**[15 Point(s)]**"
   ]
  },
  {
   "cell_type": "markdown",
   "id": "6b47d451",
   "metadata": {
    "deletable": false,
    "editable": false,
    "nbgrader": {
     "cell_type": "markdown",
     "checksum": "d37bfa9407da5d7adae0b99d99be41d1",
     "grade": false,
     "grade_id": "Astar_implementation_A_Description0",
     "locked": true,
     "schema_version": 3,
     "solution": false,
     "task": false
    }
   },
   "source": [
    "## The 8 Puzzle [10 Points]\n",
    "\n",
    "An 8 puzzle is a simple game consisting of a 3 x 3 grid (containing 9 squares). One of the squares is empty.\n",
    "The object is to move the squares around into different positions and having the numbers displayed in the \"goal state\". The squares can obviously only move along the horizontal and vertical axis and only into the **empty tile**. Therefore the problem can also be viewed as the empty tile \"trading\" positions with one of its neighbouring tiles.\n",
    "\n",
    "The image below depicts the goal state of an \"3 x 3\" 8 puzzle.\n",
    "<img src=\"Informed_Search_files/img/8_puzzle.png\" alt=\"8 Puzzle\" width=\"200\"/>\n",
    "\n",
    "The complexity of possible moves toward the final solution in a game like this is large. With an uninformed search strategy, finding a solution to this problem can take a lot of time. The problem is now about finding the shortest path to the goal state within reasonable time, which we will do in this assignment using A* and Greedy Search.\n",
    "\n",
    "### Task\n",
    "- We will implement the 8 puzzle game as the class `Puzzle`\n",
    "- Define methods for moving a tile around in the puzzle\n",
    "- Define a mehod for generating all possible moves from one particular configuration.\n",
    "- You are already provided with a class and function templates below. Please complete the implementation."
   ]
  },
  {
   "cell_type": "code",
   "execution_count": 29,
   "id": "93d16706",
   "metadata": {
    "ExecuteTime": {
     "end_time": "2024-11-09T14:12:29.305018Z",
     "start_time": "2024-11-09T14:12:29.287312Z"
    },
    "deletable": false,
    "nbgrader": {
     "cell_type": "code",
     "checksum": "67612fd549c8de012debd82e3062b06c",
     "grade": false,
     "grade_id": "Astar_implementation_A",
     "locked": false,
     "schema_version": 3,
     "solution": true,
     "task": false
    }
   },
   "outputs": [],
   "source": [
    "from typing import List, Tuple\n",
    "from utils import print_puzzle\n",
    "\n",
    "class Puzzle:\n",
    "\n",
    "    def __init__(self, init_state: List[int], puzzle_type: int = 8):\n",
    "        \"\"\"\n",
    "        Initialize a new 8-puzzle board\n",
    "        :param init_state: Initial configuration of the board\n",
    "        \"\"\"\n",
    "        self.init_state = init_state\n",
    "        self.puzzle_type = puzzle_type\n",
    "        self.goal_state = [i for i in range (1, puzzle_type + 1)] + [0]\n",
    "        self.closed =[]\n",
    "        # YOUR CODE HERE\n",
    "        #raise NotImplementedError()\n",
    "\n",
    "    def goal_test(self, state: List[int]):\n",
    "        \"\"\"Test if goal state is reached\n",
    "        :param state: board configuration to check\n",
    "        :return: true if the passed configuration is equal to goal configuration\n",
    "        \"\"\"\n",
    "        # Check if each element in the current state matches the goal configuration\n",
    "        return state == self.goal_state\n",
    "        # YOUR CODE HERE\n",
    "        #raise NotImplementedError()\n",
    "        \n",
    "    def add_to_explored():\n",
    "        \n",
    "        self.closed.append(state)\n",
    "\n",
    "    def is_explored(self, state: List[int]):\n",
    "        \"\"\"Check if a particular board configuration has already been explored\n",
    "        :param state: board configuration to check\n",
    "        :return: true if a particular configuration has already been explored\n",
    "        \"\"\"\n",
    "        return state in self.closed\n",
    "        # YOUR CODE HERE\n",
    "        #raise NotImplementedError()\n",
    "    \n",
    "    def reset(self):\n",
    "        # YOUR CODE HERE\n",
    "        self.closed.clear()\n",
    "        self.init_state = [i for i in range (1, self.puzzle_type + 1)] + [0]\n",
    "        #raise NotImplementedError()\n",
    "\n",
    "\n",
    "def move_left(position: int) -> int:\n",
    "    \"\"\"Move one position left in 8 puzzle if possible\n",
    "    :param position: current position of the 0 tile\n",
    "    :return: new position of the 0 tile after moving to the left\n",
    "    \"\"\"\n",
    "    # YOUR CODE HERE\n",
    "    if position % 3 > 0:\n",
    "        return position -1\n",
    "    return None\n",
    "    #raise NotImplementedError()\n",
    "\n",
    "\n",
    "def move_right(position: int) -> int:\n",
    "    \"\"\"Move one position right in 8 puzzle if possible\n",
    "    :param position: current position of the 0 tile\n",
    "    :return: new position of the 0 tile after moving to the right\n",
    "    \"\"\"\n",
    "    # YOUR CODE HERE\n",
    "    if position % 3 < 2:\n",
    "        return position + 1\n",
    "    return None\n",
    "    #raise NotImplementedError()\n",
    "\n",
    "\n",
    "def move_up(position: int) -> int:\n",
    "    \"\"\"Move one position up in 8 puzzle if possible\n",
    "    :param position: current position of the 0 tile\n",
    "    :return: new position of the 0 tile after moving upwards\n",
    "    \"\"\"\n",
    "    # YOUR CODE HERE\n",
    "    if position > 2:\n",
    "        return position -3\n",
    "    return None\n",
    "    #raise NotImplementedError()\n",
    "\n",
    "\n",
    "def move_down(position: int):\n",
    "    \"\"\"Move one position down in 8 puzzle if possible\n",
    "    :param position: current position of the 0 tile.\n",
    "    :return: new position of the 0 tile after moving downwards\n",
    "    \"\"\"\n",
    "    # YOUR CODE HERE\n",
    "    if position < 6:\n",
    "        return position + 3\n",
    "    return None\n",
    "    #raise NotImplementedError()\n",
    "\n",
    "\n",
    "def get_possible_moves(state: List[int]) -> List[List[int]]:\n",
    "    \"\"\"Check whether a move is possible in left, right, up, down direction and store it.\n",
    "    :param state: current configuration of the puzzle as one dimensional list\n",
    "    :return: list containing the new configurations after applying all possible moves\n",
    "    \"\"\"\n",
    "    # YOUR CODE HERE\n",
    "    moves = []\n",
    "    \n",
    "    position = state.index(0)\n",
    "    \n",
    "    for move_func in (move_left, move_right, move_up, move_down):\n",
    "        \n",
    "        new_position = move_func (position)\n",
    "        if new_position is not None:\n",
    "            new_state = state[:]\n",
    "            \n",
    "            new_state [position], new_state[new_position] = new_state [new_position], new_state [position]\n",
    "            \n",
    "            moves.append (new_state)\n",
    "    \n",
    "    return moves\n",
    "    #raise NotImplementedError()\n",
    "\n",
    "# YOUR CODE HERE\n",
    "#raise NotImplementedError()"
   ]
  },
  {
   "cell_type": "code",
   "execution_count": null,
   "id": "89b12a4e",
   "metadata": {
    "deletable": false,
    "editable": false,
    "nbgrader": {
     "cell_type": "code",
     "checksum": "146bdd3a32dce5c34da39c237ef1cf7a",
     "grade": true,
     "grade_id": "test_Astar_implementation_A0",
     "locked": true,
     "points": 15,
     "schema_version": 3,
     "solution": false,
     "task": false
    }
   },
   "outputs": [],
   "source": []
  },
  {
   "cell_type": "markdown",
   "id": "ae4b79bb",
   "metadata": {
    "deletable": false,
    "editable": false,
    "nbgrader": {
     "cell_type": "markdown",
     "checksum": "a183b8cba1605e5808b21cbde2cb71eb",
     "grade": false,
     "grade_id": "taskheader_2_2",
     "locked": true,
     "schema_version": 3,
     "solution": false,
     "task": false
    }
   },
   "source": [
    "## Task 2.2\n",
    "\n",
    "**[5 Point(s)]**"
   ]
  },
  {
   "cell_type": "markdown",
   "id": "1a46e4c9",
   "metadata": {
    "deletable": false,
    "editable": false,
    "nbgrader": {
     "cell_type": "markdown",
     "checksum": "9a0e041dff2d676e324457304d834f5e",
     "grade": false,
     "grade_id": "Astar_implementation_B_Description0",
     "locked": true,
     "schema_version": 3,
     "solution": false,
     "task": false
    }
   },
   "source": [
    "## Heuristics [5 Points]\n",
    "\n",
    "In this part, you are tasked to implement two different admissible heuristics for the 8 puzzle: The [Hamming distance](https://en.wikipedia.org/wiki/Hamming_distance) and the [Manhattan Distance](https://en.wikipedia.org/wiki/Taxicab_geometry).\n",
    "\n",
    "**Hamming Distance**  \n",
    "Let $A$ be an alphabet of symbols and $C$ a subset of $A^n$, the set of worlds of length $n$ over $A$. Let $u = (u_1, ..., u_n)$ and $v = (v_1, ...,v_n)$. The Hamming distance is deinfed as the number of places in which $u$ and $v$ differ. That is:\n",
    "$$h(n) = \\{i:u_i \\neq v_i,i=1,...,n\\}$$\n",
    "See also: [Encyclopedia of Math](https://encyclopediaofmath.org/wiki/Hamming_distance)\n",
    "\n",
    "It is clear that this heuristic is admissible since the total number of moves to order the tiles correctly is at least the number of misplaced tiles (each tile not in place must be moved at least once). The cost (number of moves) to the goal (an ordered puzzle) is at least the Hamming distance of the puzzle.\n",
    "\n",
    "**Manhattan Distance**  \n",
    "The Manhattan distance between two points $x = (x_1, ..., x_n)$ and $y = (y_1, ..., y_n)$ in $n$-dimensional space is the sum of the distances in each dimension.\n",
    "$$d(x,y) = \\sum^n_{i=1} \\vert x_i - y_i \\vert$$\n",
    "See also: [Encyclopedia of Machine Learning](https://link.springer.com/referenceworkentry/10.1007%2F978-0-387-30164-8_506)\n",
    "\n",
    "The Manhattan distance is an admissible heuristic because every tile will have to be moved at least the number of spots in between itself and its correct position.\n",
    "\n",
    "### Task\n",
    "- You are provided with the function definitions for the two heuristics below\n",
    "- Please implement them according to the mathematical definition given above"
   ]
  },
  {
   "cell_type": "code",
   "execution_count": 27,
   "id": "4438f418",
   "metadata": {
    "ExecuteTime": {
     "end_time": "2024-11-09T14:12:21.159772Z",
     "start_time": "2024-11-09T14:12:21.148027Z"
    },
    "deletable": false,
    "nbgrader": {
     "cell_type": "code",
     "checksum": "1b9f81a409b208d3ac3148c467319dbc",
     "grade": false,
     "grade_id": "Astar_implementation_B",
     "locked": false,
     "schema_version": 3,
     "solution": true,
     "task": false
    }
   },
   "outputs": [],
   "source": [
    "from math import sqrt\n",
    "from typing import Tuple, List\n",
    "\n",
    "def hamming_distance(state: List[int]) -> int:\n",
    "    \"\"\"Calculate the Hamming distance for a particular configuration\n",
    "    :param state: current configuration of the puzzle\n",
    "    :return: the number of misplaced tiles in the given configuration\n",
    "    \"\"\"\n",
    "    hamming = 0\n",
    "    \n",
    "    for index, item in enumerate (state):\n",
    "        \n",
    "        if item != 0 and item != index + 1:\n",
    "            \n",
    "            hamming += 1\n",
    "            \n",
    "        elif item == 0 and item != len(state) -1:\n",
    "            \n",
    "            hamming += 1\n",
    "            \n",
    "    return hamming\n",
    "    # YOUR CODE HERE\n",
    "    #raise NotImplementedError()\n",
    "\n",
    "\n",
    "def manhattan_distance(state: List[int]) -> int:\n",
    "    \"\"\"Function to calculate the manhattan distance for a\n",
    "    particular configuration\n",
    "    :param state: current configuration of the puzzle\n",
    "    :return: the accumulated manhattan distance between each tile and its goal position in the given configuration\n",
    "    \"\"\"\n",
    "    manhattan = 0\n",
    "    reference = int (sqrt(len(state)))\n",
    "    \n",
    "    for index, item in enumerate (state):\n",
    "        \n",
    "            if item != 0:\n",
    "                \n",
    "                goal_position_x, goal_position_y = divmod(item-1, reference)\n",
    "            else:\n",
    "                goal_position_x, goal_position_y = reference - 1, reference -1\n",
    "\n",
    "            current_position_x, current_position_y = divmod(index, reference)\n",
    "\n",
    "            manhattan += abs(goal_position_x - current_position_x) + abs (goal_position_y - current_position_y)\n",
    "            \n",
    "    return manhattan\n",
    "    # YOUR CODE HERE\n",
    "    #raise NotImplementedError()"
   ]
  },
  {
   "cell_type": "code",
   "execution_count": 28,
   "id": "5569f19e",
   "metadata": {
    "ExecuteTime": {
     "end_time": "2024-11-09T14:12:23.649993Z",
     "start_time": "2024-11-09T14:12:23.645603Z"
    }
   },
   "outputs": [],
   "source": [
    "# Run this test cell in order to get an indication of whether your implementation is working as expected.\n",
    "assert hamming_distance([0,1,2,3,4,5,8,6,7]) == 9\n",
    "assert manhattan_distance([1,2,3,4,0,5,6,8,7]) == 8"
   ]
  },
  {
   "cell_type": "code",
   "execution_count": null,
   "id": "c0873273",
   "metadata": {
    "deletable": false,
    "editable": false,
    "nbgrader": {
     "cell_type": "code",
     "checksum": "a98920b24f58e0bb11dae6908eb0bdc5",
     "grade": true,
     "grade_id": "test_Astar_implementation_B0",
     "locked": true,
     "points": 5,
     "schema_version": 3,
     "solution": false,
     "task": false
    }
   },
   "outputs": [],
   "source": []
  },
  {
   "cell_type": "markdown",
   "id": "0413ffc3",
   "metadata": {
    "deletable": false,
    "editable": false,
    "nbgrader": {
     "cell_type": "markdown",
     "checksum": "414bc309c896d1afeba9ab317e3fe9ee",
     "grade": false,
     "grade_id": "taskheader_2_3",
     "locked": true,
     "schema_version": 3,
     "solution": false,
     "task": false
    }
   },
   "source": [
    "## Task 2.3\n",
    "\n",
    "**[10 Point(s)]**"
   ]
  },
  {
   "cell_type": "markdown",
   "id": "984b7c78",
   "metadata": {
    "deletable": false,
    "editable": false,
    "nbgrader": {
     "cell_type": "markdown",
     "checksum": "b479639a3c8a80517cbadd9a5f411b11",
     "grade": false,
     "grade_id": "Astar_implementation_C_Description0",
     "locked": true,
     "schema_version": 3,
     "solution": false,
     "task": false
    }
   },
   "source": [
    "## A* Search Algorithm [10 Points]\n",
    "\n",
    "Now you will implement the A* search algorithm. To do that, you can consider the pseudocode from the lecture\n",
    "\n",
    "```\n",
    "function A*(problem) returns a solution, or failure\n",
    "    closed ← an empty set\n",
    "    fringe ← a list containing Make-Node(Initial-State[problem])\n",
    "    loop do\n",
    "        if fringe is empty then return failure\n",
    "        node ← Remove-Front(fringe)\n",
    "        if Goal-Test[problem] applied to State(node) succeeds return node\n",
    "            insert node into closed\n",
    "        for each node n ∈ Expand(node, problem) do\n",
    "            if there is a node m ∈ closed ∪ fringe such that\n",
    "                STATE(m) = STATE(n) and f(m) ≤ f(n)\n",
    "            then do nothing\n",
    "            else\n",
    "                insert n into fringe after the last node m such that f(m) ≤ f(n)\n",
    "end\n",
    "```\n",
    "Some other references for A* pseudocode: https://mat.uab.cat/~alseda/MasterOpt/AStar-Algorithm.pdf\n",
    "### Task\n",
    "- You are provided with the function definition for the A* function\n",
    "- Please implement A* according to the algorithm design discussed in the lectures\n",
    "\n",
    "In order to get an estimation on whether your solution work as expected, there is a public test available in the test cell. Make sure that all dependent cells are executed first, otherwise some functions or variables might not exist and an error will occur."
   ]
  },
  {
   "cell_type": "code",
   "execution_count": 20,
   "id": "2c1e9296",
   "metadata": {
    "ExecuteTime": {
     "end_time": "2024-11-09T13:57:57.119815Z",
     "start_time": "2024-11-09T13:57:57.106560Z"
    },
    "deletable": false,
    "nbgrader": {
     "cell_type": "code",
     "checksum": "744cf944a25f471e42539e6030a37c63",
     "grade": false,
     "grade_id": "Astar_implementation_C",
     "locked": false,
     "schema_version": 3,
     "solution": true,
     "task": false
    }
   },
   "outputs": [],
   "source": [
    "from typing import Callable, List, Tuple, Dict, Optional\n",
    "import heapq\n",
    "\n",
    "def astar_search(board: Puzzle, heuristic: Callable) -> Tuple[List[int], int]:\n",
    "    \"\"\"\n",
    "    :param board: the 8-puzzle to solve\n",
    "    :param heuristic: the heuristic function to use\n",
    "    :return: an ordered list with the solution path and the number of total nodes expanded\n",
    "    \"\"\"\n",
    "    fringe = []\n",
    "    heapq.heappush(fringe, (0, board.init_state))\n",
    "    source: Dict [Tuple[int], Optional[Tuple[int]]] = {}\n",
    "    g_costs = {tuple (board.init_state): 0}\n",
    "    explored = set()\n",
    "    expanded_nodes = 0\n",
    "    \n",
    "    while fringe:\n",
    "        \n",
    "        _, current_state = heapq.heappop (fringe)\n",
    "        expanded_nodes += 1\n",
    "        \n",
    "        if board.goal_test (current_state):\n",
    "            return track_path (source, current_state), expanded_nodes\n",
    "             \n",
    "        \n",
    "        explored.add(tuple(current_state))\n",
    "\n",
    "        for child in get_possible_moves (current_state):\n",
    "            child_tuple = tuple(child)\n",
    "            tentative_g_cost = g_costs[tuple(current_state)] + 1\n",
    "\n",
    "            if child_tuple in explored or (child_tuple in g_costs and tentative_g_cost >= g_costs[child_tuple]):\n",
    "                continue\n",
    "            \n",
    "            source[child_tuple] = current_state\n",
    "            g_costs[child_tuple] = tentative_g_cost\n",
    "            \n",
    "            f_cost = tentative_g_cost + heuristic (child)\n",
    "            heapq.heappush (fringe, (f_cost,child))\n",
    "        \n",
    "    return [], expanded_nodes\n",
    "\n",
    "def track_path(source: Dict[Tuple[int], Optional[Tuple[int]]], current: List[int]) -> List[int]:\n",
    "    \n",
    "    path = [current]\n",
    "    while tuple(current) in source:\n",
    "        current = source [tuple (current)]\n",
    "        path.append(current)\n",
    "    path.reverse()\n",
    "    print (path)\n",
    "    return path\n",
    "    # YOUR CODE HERE\n",
    "    #raise NotImplementedError()"
   ]
  },
  {
   "cell_type": "code",
   "execution_count": 21,
   "id": "d6f0b1a0",
   "metadata": {
    "ExecuteTime": {
     "end_time": "2024-11-09T13:57:59.432941Z",
     "start_time": "2024-11-09T13:57:59.413331Z"
    }
   },
   "outputs": [
    {
     "name": "stdout",
     "output_type": "stream",
     "text": [
      "[[0, 1, 2, 3, 4, 5, 8, 6, 7], [1, 0, 2, 3, 4, 5, 8, 6, 7], [1, 4, 2, 3, 0, 5, 8, 6, 7], [1, 4, 2, 0, 3, 5, 8, 6, 7], [1, 4, 2, 8, 3, 5, 0, 6, 7], [1, 4, 2, 8, 3, 5, 6, 0, 7], [1, 4, 2, 8, 3, 5, 6, 7, 0], [1, 4, 2, 8, 3, 0, 6, 7, 5], [1, 4, 2, 8, 0, 3, 6, 7, 5], [1, 4, 2, 8, 7, 3, 6, 0, 5], [1, 4, 2, 8, 7, 3, 0, 6, 5], [1, 4, 2, 0, 7, 3, 8, 6, 5], [1, 4, 2, 7, 0, 3, 8, 6, 5], [1, 0, 2, 7, 4, 3, 8, 6, 5], [1, 2, 0, 7, 4, 3, 8, 6, 5], [1, 2, 3, 7, 4, 0, 8, 6, 5], [1, 2, 3, 7, 4, 5, 8, 6, 0], [1, 2, 3, 7, 4, 5, 8, 0, 6], [1, 2, 3, 7, 4, 5, 0, 8, 6], [1, 2, 3, 0, 4, 5, 7, 8, 6], [1, 2, 3, 4, 0, 5, 7, 8, 6], [1, 2, 3, 4, 5, 0, 7, 8, 6], [1, 2, 3, 4, 5, 6, 7, 8, 0]]\n"
     ]
    }
   ],
   "source": [
    "# Run this test cell in order to get an INDICATION of whether your implementation is working as expected.\n",
    "import time\n",
    "t0 = time.time()\n",
    "p = Puzzle([0,1,2,3,4,5,8,6,7])\n",
    "path, expanded_nodes = astar_search(p, manhattan_distance)\n",
    "t1 = time.time()\n",
    "assert len(path) == 23\n",
    "# The execution time is limited to 10min, so please keep this in mind when implementing your solution!\n",
    "assert t1-t0 <= 60"
   ]
  },
  {
   "cell_type": "code",
   "execution_count": null,
   "id": "8284d888",
   "metadata": {
    "deletable": false,
    "editable": false,
    "nbgrader": {
     "cell_type": "code",
     "checksum": "dd677aec6712c42e71ef5b08b8ff3c06",
     "grade": true,
     "grade_id": "test_Astar_implementation_C0",
     "locked": true,
     "points": 10,
     "schema_version": 3,
     "solution": false,
     "task": false
    }
   },
   "outputs": [],
   "source": []
  },
  {
   "cell_type": "markdown",
   "id": "531f5596",
   "metadata": {
    "deletable": false,
    "editable": false,
    "nbgrader": {
     "cell_type": "markdown",
     "checksum": "18a653d8b1db881522197cab52b95c2b",
     "grade": false,
     "grade_id": "taskheader_2_4",
     "locked": true,
     "schema_version": 3,
     "solution": false,
     "task": false
    }
   },
   "source": [
    "## Task 2.4\n",
    "\n",
    "**[10 Point(s)]**"
   ]
  },
  {
   "cell_type": "markdown",
   "id": "960336f2",
   "metadata": {
    "deletable": false,
    "editable": false,
    "nbgrader": {
     "cell_type": "markdown",
     "checksum": "0f6bf8772efccb8ea9b6b90e1ea8f2a8",
     "grade": false,
     "grade_id": "Astar_implementation_D_Description0",
     "locked": true,
     "schema_version": 3,
     "solution": false,
     "task": false
    }
   },
   "source": [
    "## Greedy Search [10 Points]\n",
    "\n",
    "Now we will implement a *greedy search algorithm*. Recall from the lecture, that the evaluation function $f(n)$ is defined as $f(n) = h(n)$, with $h(n)$ being the heuristic function.\n",
    "\n",
    "### Task\n",
    "- You are provided with the definition of the greedy search function\n",
    "- Implement a greedy search strategy by completing the function below\n",
    "\n",
    "In order to get an estimation on whether your solution work as expected, there is a public test available in the test cell. Make sure that all dependent cells are executed first, otherwise some functions or variables might not exist and an error will occur."
   ]
  },
  {
   "cell_type": "code",
   "execution_count": 30,
   "id": "6b0b7675",
   "metadata": {
    "ExecuteTime": {
     "end_time": "2024-11-09T14:12:57.688705Z",
     "start_time": "2024-11-09T14:12:57.678578Z"
    },
    "deletable": false,
    "nbgrader": {
     "cell_type": "code",
     "checksum": "d8e2fcb8c09e525d2242c01f9ae11d3e",
     "grade": false,
     "grade_id": "Astar_implementation_D",
     "locked": false,
     "schema_version": 3,
     "solution": true,
     "task": false
    }
   },
   "outputs": [],
   "source": [
    "from typing import List, Tuple, Callable\n",
    "\n",
    "def greedy_search(board: Puzzle, heuristic: Callable) -> Tuple[List[int], int]:\n",
    "    \"\"\"Implementation of the greedy search algorithm.\n",
    "    :param board: the 8-puzzle to solve\n",
    "    :param heuristic: the heuristic function to use\n",
    "    :return: an ordered list with the solution path and the number of total nodes expanded \n",
    "    \"\"\"\n",
    "    # YOUR CODE HERE\n",
    "    open_list = []\n",
    "    heapq.heappush(open_list, (manhattan_distance(board.init_state), board.init_state))\n",
    "    source: Dict [Tuple[int], Optional[Tuple[int]]] = {}\n",
    "    # g_costs = {tuple (board.init_state): 0}\n",
    "    explored = set()\n",
    "    expanded_nodes = 0\n",
    "    \n",
    "    while open_list:\n",
    "        \n",
    "        hueristic_cost, current_state = heapq.heappop (open_list)\n",
    "        expanded_nodes += 1\n",
    "        \n",
    "        if board.goal_test (current_state):\n",
    "            return track_path (source, current_state), expanded_nodes\n",
    "             \n",
    "        \n",
    "        explored.add(tuple(current_state))\n",
    "\n",
    "        for child in get_possible_moves (current_state):\n",
    "            child_tuple = tuple(child)\n",
    "\n",
    "            if child_tuple in explored:\n",
    "                continue\n",
    "            \n",
    "            source[child_tuple] = current_state\n",
    "            heapq.heappush (open_list, (manhattan_distance(child), child))\n",
    "        \n",
    "    return [], expanded_nodes\n",
    "    \n",
    "    #raise NotImplementedError()\n",
    "\n",
    "# YOUR CODE HERE\n",
    "#raise NotImplementedError()"
   ]
  },
  {
   "cell_type": "code",
   "execution_count": 31,
   "id": "7c445260",
   "metadata": {
    "ExecuteTime": {
     "end_time": "2024-11-09T14:13:01.213454Z",
     "start_time": "2024-11-09T14:13:01.199772Z"
    }
   },
   "outputs": [
    {
     "name": "stdout",
     "output_type": "stream",
     "text": [
      "[[0, 1, 2, 3, 4, 5, 8, 6, 7], [1, 0, 2, 3, 4, 5, 8, 6, 7], [1, 2, 0, 3, 4, 5, 8, 6, 7], [1, 2, 5, 3, 4, 0, 8, 6, 7], [1, 2, 5, 3, 4, 7, 8, 6, 0], [1, 2, 5, 3, 4, 7, 8, 0, 6], [1, 2, 5, 3, 4, 7, 0, 8, 6], [1, 2, 5, 0, 4, 7, 3, 8, 6], [1, 2, 5, 4, 0, 7, 3, 8, 6], [1, 2, 5, 4, 7, 0, 3, 8, 6], [1, 2, 5, 4, 7, 6, 3, 8, 0], [1, 2, 5, 4, 7, 6, 3, 0, 8], [1, 2, 5, 4, 0, 6, 3, 7, 8], [1, 2, 5, 0, 4, 6, 3, 7, 8], [1, 2, 5, 3, 4, 6, 0, 7, 8], [1, 2, 5, 3, 4, 6, 7, 0, 8], [1, 2, 5, 3, 0, 6, 7, 4, 8], [1, 2, 5, 0, 3, 6, 7, 4, 8], [1, 2, 5, 7, 3, 6, 0, 4, 8], [1, 2, 5, 7, 3, 6, 4, 0, 8], [1, 2, 5, 7, 3, 6, 4, 8, 0], [1, 2, 5, 7, 3, 0, 4, 8, 6], [1, 2, 5, 7, 0, 3, 4, 8, 6], [1, 2, 5, 0, 7, 3, 4, 8, 6], [1, 2, 5, 4, 7, 3, 0, 8, 6], [1, 2, 5, 4, 7, 3, 8, 0, 6], [1, 2, 5, 4, 0, 3, 8, 7, 6], [1, 2, 5, 4, 3, 0, 8, 7, 6], [1, 2, 0, 4, 3, 5, 8, 7, 6], [1, 0, 2, 4, 3, 5, 8, 7, 6], [1, 3, 2, 4, 0, 5, 8, 7, 6], [1, 3, 2, 4, 5, 0, 8, 7, 6], [1, 3, 2, 4, 5, 6, 8, 7, 0], [1, 3, 2, 4, 5, 6, 8, 0, 7], [1, 3, 2, 4, 0, 6, 8, 5, 7], [1, 0, 2, 4, 3, 6, 8, 5, 7], [1, 2, 0, 4, 3, 6, 8, 5, 7], [1, 2, 6, 4, 3, 0, 8, 5, 7], [1, 2, 6, 4, 0, 3, 8, 5, 7], [1, 2, 6, 4, 5, 3, 8, 0, 7], [1, 2, 6, 4, 5, 3, 0, 8, 7], [1, 2, 6, 0, 5, 3, 4, 8, 7], [1, 2, 6, 5, 0, 3, 4, 8, 7], [1, 2, 6, 5, 8, 3, 4, 0, 7], [1, 2, 6, 5, 8, 3, 4, 7, 0], [1, 2, 6, 5, 8, 0, 4, 7, 3], [1, 2, 6, 5, 0, 8, 4, 7, 3], [1, 2, 6, 0, 5, 8, 4, 7, 3], [1, 2, 6, 4, 5, 8, 0, 7, 3], [1, 2, 6, 4, 5, 8, 7, 0, 3], [1, 2, 6, 4, 5, 8, 7, 3, 0], [1, 2, 6, 4, 5, 0, 7, 3, 8], [1, 2, 0, 4, 5, 6, 7, 3, 8], [1, 0, 2, 4, 5, 6, 7, 3, 8], [1, 5, 2, 4, 0, 6, 7, 3, 8], [1, 5, 2, 4, 3, 6, 7, 0, 8], [1, 5, 2, 4, 3, 6, 7, 8, 0], [1, 5, 2, 4, 3, 0, 7, 8, 6], [1, 5, 2, 4, 0, 3, 7, 8, 6], [1, 0, 2, 4, 5, 3, 7, 8, 6], [1, 2, 0, 4, 5, 3, 7, 8, 6], [1, 2, 3, 4, 5, 0, 7, 8, 6], [1, 2, 3, 4, 5, 6, 7, 8, 0]]\n"
     ]
    }
   ],
   "source": [
    "# Run this test cell in order to get an INDICATION of whether your implementation is working as expected.\n",
    "import time\n",
    "t0 = time.time()\n",
    "p = Puzzle([0,1,2,3,4,5,8,6,7])\n",
    "path, expanded_nodes = greedy_search(p, manhattan_distance)\n",
    "t1 = time.time()\n",
    "# The execution time is limited to 10min, so please keep this in mind when implementing your solution!\n",
    "assert t1-t0 <= 600"
   ]
  },
  {
   "cell_type": "code",
   "execution_count": null,
   "id": "7b4fda7a",
   "metadata": {
    "deletable": false,
    "editable": false,
    "nbgrader": {
     "cell_type": "code",
     "checksum": "2e2ee6ff827f1908d2f3beeb22638bbd",
     "grade": true,
     "grade_id": "test_Astar_implementation_D0",
     "locked": true,
     "points": 10,
     "schema_version": 3,
     "solution": false,
     "task": false
    }
   },
   "outputs": [],
   "source": []
  },
  {
   "cell_type": "markdown",
   "id": "8dc5f7b5",
   "metadata": {
    "deletable": false,
    "editable": false,
    "nbgrader": {
     "cell_type": "markdown",
     "checksum": "2bd81a3f93c50d79a103e109619acee7",
     "grade": false,
     "grade_id": "taskheader_2_5",
     "locked": true,
     "schema_version": 3,
     "solution": false,
     "task": false
    }
   },
   "source": [
    "## Task 2.5\n",
    "\n",
    "**[5 Point(s)]**"
   ]
  },
  {
   "cell_type": "markdown",
   "id": "07d5c4d4",
   "metadata": {
    "deletable": false,
    "editable": false,
    "nbgrader": {
     "cell_type": "markdown",
     "checksum": "88a010cc02b6d1f8a3fe6d7346852fdd",
     "grade": false,
     "grade_id": "Astar_implementation_E_Description0",
     "locked": true,
     "schema_version": 3,
     "solution": false,
     "task": false
    }
   },
   "source": [
    "## Evaluation A) [5 Points]\n",
    "\n",
    "Now we want to compare the performance of the different solvers. For that, run every combination of `algorithm` x `heuristic` with the puzzle configurations\n",
    "1. `[0, 1, 2, 3, 4, 5, 8, 6, 7]`\n",
    "1. `[8, 7, 6, 5, 1, 4, 2, 0, 3]`\n",
    "1. `[1, 5, 7, 3, 6, 2, 0, 4, 8]`\n",
    "\n",
    "for each run, record the `expanded nodes`, `execution time` and the `path cost`.\n",
    "```\n",
    "[\n",
    "  {\n",
    "    'puzzle': 1,\n",
    "    'algorithm': 'astar',\n",
    "    'heuristic': 'manhattan',\n",
    "    'expanded nodes': 0,\n",
    "    'execution time': 0.0,\n",
    "    'path cost': 0\n",
    "  }\n",
    "]\n",
    "```"
   ]
  },
  {
   "cell_type": "code",
   "execution_count": 24,
   "id": "25c5addc",
   "metadata": {
    "ExecuteTime": {
     "end_time": "2024-11-09T13:58:44.088354Z",
     "start_time": "2024-11-09T13:58:43.008975Z"
    },
    "deletable": false,
    "nbgrader": {
     "cell_type": "code",
     "checksum": "f99fa7836b458cc1c7d90d10cb27b9e9",
     "grade": false,
     "grade_id": "Astar_implementation_E",
     "locked": false,
     "schema_version": 3,
     "solution": true,
     "task": false
    }
   },
   "outputs": [
    {
     "name": "stdout",
     "output_type": "stream",
     "text": [
      "[[0, 1, 2, 3, 4, 5, 8, 6, 7], [1, 0, 2, 3, 4, 5, 8, 6, 7], [1, 4, 2, 3, 0, 5, 8, 6, 7], [1, 4, 2, 0, 3, 5, 8, 6, 7], [1, 4, 2, 8, 3, 5, 0, 6, 7], [1, 4, 2, 8, 3, 5, 6, 0, 7], [1, 4, 2, 8, 3, 5, 6, 7, 0], [1, 4, 2, 8, 3, 0, 6, 7, 5], [1, 4, 2, 8, 0, 3, 6, 7, 5], [1, 4, 2, 8, 7, 3, 6, 0, 5], [1, 4, 2, 8, 7, 3, 0, 6, 5], [1, 4, 2, 0, 7, 3, 8, 6, 5], [1, 4, 2, 7, 0, 3, 8, 6, 5], [1, 0, 2, 7, 4, 3, 8, 6, 5], [1, 2, 0, 7, 4, 3, 8, 6, 5], [1, 2, 3, 7, 4, 0, 8, 6, 5], [1, 2, 3, 7, 4, 5, 8, 6, 0], [1, 2, 3, 7, 4, 5, 8, 0, 6], [1, 2, 3, 7, 4, 5, 0, 8, 6], [1, 2, 3, 0, 4, 5, 7, 8, 6], [1, 2, 3, 4, 0, 5, 7, 8, 6], [1, 2, 3, 4, 5, 0, 7, 8, 6], [1, 2, 3, 4, 5, 6, 7, 8, 0]]\n",
      "[[0, 1, 2, 3, 4, 5, 8, 6, 7], [1, 0, 2, 3, 4, 5, 8, 6, 7], [1, 2, 0, 3, 4, 5, 8, 6, 7], [1, 2, 5, 3, 4, 0, 8, 6, 7], [1, 2, 5, 3, 4, 7, 8, 6, 0], [1, 2, 5, 3, 4, 7, 8, 0, 6], [1, 2, 5, 3, 0, 7, 8, 4, 6], [1, 2, 5, 0, 3, 7, 8, 4, 6], [0, 2, 5, 1, 3, 7, 8, 4, 6], [2, 0, 5, 1, 3, 7, 8, 4, 6], [2, 3, 5, 1, 0, 7, 8, 4, 6], [2, 3, 5, 1, 7, 0, 8, 4, 6], [2, 3, 0, 1, 7, 5, 8, 4, 6], [2, 0, 3, 1, 7, 5, 8, 4, 6], [0, 2, 3, 1, 7, 5, 8, 4, 6], [1, 2, 3, 0, 7, 5, 8, 4, 6], [1, 2, 3, 7, 0, 5, 8, 4, 6], [1, 2, 3, 7, 4, 5, 8, 0, 6], [1, 2, 3, 7, 4, 5, 0, 8, 6], [1, 2, 3, 0, 4, 5, 7, 8, 6], [1, 2, 3, 4, 0, 5, 7, 8, 6], [1, 2, 3, 4, 5, 0, 7, 8, 6], [1, 2, 3, 4, 5, 6, 7, 8, 0]]\n",
      "[[0, 1, 2, 3, 4, 5, 8, 6, 7], [1, 0, 2, 3, 4, 5, 8, 6, 7], [1, 2, 0, 3, 4, 5, 8, 6, 7], [1, 2, 5, 3, 4, 0, 8, 6, 7], [1, 2, 5, 3, 4, 7, 8, 6, 0], [1, 2, 5, 3, 4, 7, 8, 0, 6], [1, 2, 5, 3, 4, 7, 0, 8, 6], [1, 2, 5, 0, 4, 7, 3, 8, 6], [1, 2, 5, 4, 0, 7, 3, 8, 6], [1, 2, 5, 4, 7, 0, 3, 8, 6], [1, 2, 5, 4, 7, 6, 3, 8, 0], [1, 2, 5, 4, 7, 6, 3, 0, 8], [1, 2, 5, 4, 0, 6, 3, 7, 8], [1, 2, 5, 0, 4, 6, 3, 7, 8], [1, 2, 5, 3, 4, 6, 0, 7, 8], [1, 2, 5, 3, 4, 6, 7, 0, 8], [1, 2, 5, 3, 0, 6, 7, 4, 8], [1, 2, 5, 0, 3, 6, 7, 4, 8], [1, 2, 5, 7, 3, 6, 0, 4, 8], [1, 2, 5, 7, 3, 6, 4, 0, 8], [1, 2, 5, 7, 3, 6, 4, 8, 0], [1, 2, 5, 7, 3, 0, 4, 8, 6], [1, 2, 5, 7, 0, 3, 4, 8, 6], [1, 2, 5, 0, 7, 3, 4, 8, 6], [1, 2, 5, 4, 7, 3, 0, 8, 6], [1, 2, 5, 4, 7, 3, 8, 0, 6], [1, 2, 5, 4, 0, 3, 8, 7, 6], [1, 2, 5, 4, 3, 0, 8, 7, 6], [1, 2, 0, 4, 3, 5, 8, 7, 6], [1, 0, 2, 4, 3, 5, 8, 7, 6], [1, 3, 2, 4, 0, 5, 8, 7, 6], [1, 3, 2, 4, 5, 0, 8, 7, 6], [1, 3, 2, 4, 5, 6, 8, 7, 0], [1, 3, 2, 4, 5, 6, 8, 0, 7], [1, 3, 2, 4, 0, 6, 8, 5, 7], [1, 0, 2, 4, 3, 6, 8, 5, 7], [1, 2, 0, 4, 3, 6, 8, 5, 7], [1, 2, 6, 4, 3, 0, 8, 5, 7], [1, 2, 6, 4, 0, 3, 8, 5, 7], [1, 2, 6, 4, 5, 3, 8, 0, 7], [1, 2, 6, 4, 5, 3, 0, 8, 7], [1, 2, 6, 0, 5, 3, 4, 8, 7], [1, 2, 6, 5, 0, 3, 4, 8, 7], [1, 2, 6, 5, 8, 3, 4, 0, 7], [1, 2, 6, 5, 8, 3, 4, 7, 0], [1, 2, 6, 5, 8, 0, 4, 7, 3], [1, 2, 6, 5, 0, 8, 4, 7, 3], [1, 2, 6, 0, 5, 8, 4, 7, 3], [1, 2, 6, 4, 5, 8, 0, 7, 3], [1, 2, 6, 4, 5, 8, 7, 0, 3], [1, 2, 6, 4, 5, 8, 7, 3, 0], [1, 2, 6, 4, 5, 0, 7, 3, 8], [1, 2, 0, 4, 5, 6, 7, 3, 8], [1, 0, 2, 4, 5, 6, 7, 3, 8], [1, 5, 2, 4, 0, 6, 7, 3, 8], [1, 5, 2, 4, 3, 6, 7, 0, 8], [1, 5, 2, 4, 3, 6, 7, 8, 0], [1, 5, 2, 4, 3, 0, 7, 8, 6], [1, 5, 2, 4, 0, 3, 7, 8, 6], [1, 0, 2, 4, 5, 3, 7, 8, 6], [1, 2, 0, 4, 5, 3, 7, 8, 6], [1, 2, 3, 4, 5, 0, 7, 8, 6], [1, 2, 3, 4, 5, 6, 7, 8, 0]]\n",
      "[[0, 1, 2, 3, 4, 5, 8, 6, 7], [1, 0, 2, 3, 4, 5, 8, 6, 7], [1, 2, 0, 3, 4, 5, 8, 6, 7], [1, 2, 5, 3, 4, 0, 8, 6, 7], [1, 2, 5, 3, 4, 7, 8, 6, 0], [1, 2, 5, 3, 4, 7, 8, 0, 6], [1, 2, 5, 3, 4, 7, 0, 8, 6], [1, 2, 5, 0, 4, 7, 3, 8, 6], [1, 2, 5, 4, 0, 7, 3, 8, 6], [1, 2, 5, 4, 7, 0, 3, 8, 6], [1, 2, 5, 4, 7, 6, 3, 8, 0], [1, 2, 5, 4, 7, 6, 3, 0, 8], [1, 2, 5, 4, 0, 6, 3, 7, 8], [1, 2, 5, 0, 4, 6, 3, 7, 8], [1, 2, 5, 3, 4, 6, 0, 7, 8], [1, 2, 5, 3, 4, 6, 7, 0, 8], [1, 2, 5, 3, 0, 6, 7, 4, 8], [1, 2, 5, 0, 3, 6, 7, 4, 8], [1, 2, 5, 7, 3, 6, 0, 4, 8], [1, 2, 5, 7, 3, 6, 4, 0, 8], [1, 2, 5, 7, 3, 6, 4, 8, 0], [1, 2, 5, 7, 3, 0, 4, 8, 6], [1, 2, 5, 7, 0, 3, 4, 8, 6], [1, 2, 5, 0, 7, 3, 4, 8, 6], [1, 2, 5, 4, 7, 3, 0, 8, 6], [1, 2, 5, 4, 7, 3, 8, 0, 6], [1, 2, 5, 4, 0, 3, 8, 7, 6], [1, 2, 5, 4, 3, 0, 8, 7, 6], [1, 2, 0, 4, 3, 5, 8, 7, 6], [1, 0, 2, 4, 3, 5, 8, 7, 6], [1, 3, 2, 4, 0, 5, 8, 7, 6], [1, 3, 2, 4, 5, 0, 8, 7, 6], [1, 3, 2, 4, 5, 6, 8, 7, 0], [1, 3, 2, 4, 5, 6, 8, 0, 7], [1, 3, 2, 4, 0, 6, 8, 5, 7], [1, 0, 2, 4, 3, 6, 8, 5, 7], [1, 2, 0, 4, 3, 6, 8, 5, 7], [1, 2, 6, 4, 3, 0, 8, 5, 7], [1, 2, 6, 4, 0, 3, 8, 5, 7], [1, 2, 6, 4, 5, 3, 8, 0, 7], [1, 2, 6, 4, 5, 3, 0, 8, 7], [1, 2, 6, 0, 5, 3, 4, 8, 7], [1, 2, 6, 5, 0, 3, 4, 8, 7], [1, 2, 6, 5, 8, 3, 4, 0, 7], [1, 2, 6, 5, 8, 3, 4, 7, 0], [1, 2, 6, 5, 8, 0, 4, 7, 3], [1, 2, 6, 5, 0, 8, 4, 7, 3], [1, 2, 6, 0, 5, 8, 4, 7, 3], [1, 2, 6, 4, 5, 8, 0, 7, 3], [1, 2, 6, 4, 5, 8, 7, 0, 3], [1, 2, 6, 4, 5, 8, 7, 3, 0], [1, 2, 6, 4, 5, 0, 7, 3, 8], [1, 2, 0, 4, 5, 6, 7, 3, 8], [1, 0, 2, 4, 5, 6, 7, 3, 8], [1, 5, 2, 4, 0, 6, 7, 3, 8], [1, 5, 2, 4, 3, 6, 7, 0, 8], [1, 5, 2, 4, 3, 6, 7, 8, 0], [1, 5, 2, 4, 3, 0, 7, 8, 6], [1, 5, 2, 4, 0, 3, 7, 8, 6], [1, 0, 2, 4, 5, 3, 7, 8, 6], [1, 2, 0, 4, 5, 3, 7, 8, 6], [1, 2, 3, 4, 5, 0, 7, 8, 6], [1, 2, 3, 4, 5, 6, 7, 8, 0]]\n",
      "[[8, 7, 6, 5, 1, 4, 2, 0, 3], [8, 7, 6, 5, 1, 4, 0, 2, 3], [8, 7, 6, 0, 1, 4, 5, 2, 3], [0, 7, 6, 8, 1, 4, 5, 2, 3], [7, 0, 6, 8, 1, 4, 5, 2, 3], [7, 1, 6, 8, 0, 4, 5, 2, 3], [7, 1, 6, 8, 2, 4, 5, 0, 3], [7, 1, 6, 8, 2, 4, 5, 3, 0], [7, 1, 6, 8, 2, 0, 5, 3, 4], [7, 1, 6, 8, 0, 2, 5, 3, 4], [7, 1, 6, 8, 3, 2, 5, 0, 4], [7, 1, 6, 8, 3, 2, 0, 5, 4], [7, 1, 6, 0, 3, 2, 8, 5, 4], [0, 1, 6, 7, 3, 2, 8, 5, 4], [1, 0, 6, 7, 3, 2, 8, 5, 4], [1, 3, 6, 7, 0, 2, 8, 5, 4], [1, 3, 6, 7, 2, 0, 8, 5, 4], [1, 3, 0, 7, 2, 6, 8, 5, 4], [1, 0, 3, 7, 2, 6, 8, 5, 4], [1, 2, 3, 7, 0, 6, 8, 5, 4], [1, 2, 3, 7, 5, 6, 8, 0, 4], [1, 2, 3, 7, 5, 6, 8, 4, 0], [1, 2, 3, 7, 5, 0, 8, 4, 6], [1, 2, 3, 7, 0, 5, 8, 4, 6], [1, 2, 3, 7, 4, 5, 8, 0, 6], [1, 2, 3, 7, 4, 5, 0, 8, 6], [1, 2, 3, 0, 4, 5, 7, 8, 6], [1, 2, 3, 4, 0, 5, 7, 8, 6], [1, 2, 3, 4, 5, 0, 7, 8, 6], [1, 2, 3, 4, 5, 6, 7, 8, 0]]\n",
      "[[8, 7, 6, 5, 1, 4, 2, 0, 3], [8, 7, 6, 5, 0, 4, 2, 1, 3], [8, 7, 6, 0, 5, 4, 2, 1, 3], [8, 7, 6, 2, 5, 4, 0, 1, 3], [8, 7, 6, 2, 5, 4, 1, 0, 3], [8, 7, 6, 2, 0, 4, 1, 5, 3], [8, 7, 6, 2, 4, 0, 1, 5, 3], [8, 7, 6, 2, 4, 3, 1, 5, 0], [8, 7, 6, 2, 4, 3, 1, 0, 5], [8, 7, 6, 2, 0, 3, 1, 4, 5], [8, 0, 6, 2, 7, 3, 1, 4, 5], [0, 8, 6, 2, 7, 3, 1, 4, 5], [2, 8, 6, 0, 7, 3, 1, 4, 5], [2, 8, 6, 1, 7, 3, 0, 4, 5], [2, 8, 6, 1, 7, 3, 4, 0, 5], [2, 8, 6, 1, 0, 3, 4, 7, 5], [2, 0, 6, 1, 8, 3, 4, 7, 5], [2, 6, 0, 1, 8, 3, 4, 7, 5], [2, 6, 3, 1, 8, 0, 4, 7, 5], [2, 6, 3, 1, 0, 8, 4, 7, 5], [2, 0, 3, 1, 6, 8, 4, 7, 5], [0, 2, 3, 1, 6, 8, 4, 7, 5], [1, 2, 3, 0, 6, 8, 4, 7, 5], [1, 2, 3, 4, 6, 8, 0, 7, 5], [1, 2, 3, 4, 6, 8, 7, 0, 5], [1, 2, 3, 4, 6, 8, 7, 5, 0], [1, 2, 3, 4, 6, 0, 7, 5, 8], [1, 2, 3, 4, 0, 6, 7, 5, 8], [1, 2, 3, 4, 5, 6, 7, 0, 8], [1, 2, 3, 4, 5, 6, 7, 8, 0]]\n",
      "[[8, 7, 6, 5, 1, 4, 2, 0, 3], [8, 7, 6, 5, 1, 4, 0, 2, 3], [8, 7, 6, 0, 1, 4, 5, 2, 3], [8, 7, 6, 1, 0, 4, 5, 2, 3], [8, 0, 6, 1, 7, 4, 5, 2, 3], [0, 8, 6, 1, 7, 4, 5, 2, 3], [1, 8, 6, 0, 7, 4, 5, 2, 3], [1, 8, 6, 5, 7, 4, 0, 2, 3], [1, 8, 6, 5, 7, 4, 2, 0, 3], [1, 8, 6, 5, 0, 4, 2, 7, 3], [1, 8, 6, 5, 4, 0, 2, 7, 3], [1, 8, 0, 5, 4, 6, 2, 7, 3], [1, 0, 8, 5, 4, 6, 2, 7, 3], [1, 4, 8, 5, 0, 6, 2, 7, 3], [1, 4, 8, 0, 5, 6, 2, 7, 3], [1, 4, 8, 2, 5, 6, 0, 7, 3], [1, 4, 8, 2, 5, 6, 7, 0, 3], [1, 4, 8, 2, 0, 6, 7, 5, 3], [1, 0, 8, 2, 4, 6, 7, 5, 3], [1, 8, 0, 2, 4, 6, 7, 5, 3], [1, 8, 6, 2, 4, 0, 7, 5, 3], [1, 8, 6, 2, 4, 3, 7, 5, 0], [1, 8, 6, 2, 4, 3, 7, 0, 5], [1, 8, 6, 2, 0, 3, 7, 4, 5], [1, 0, 6, 2, 8, 3, 7, 4, 5], [1, 6, 0, 2, 8, 3, 7, 4, 5], [1, 6, 3, 2, 8, 0, 7, 4, 5], [1, 6, 3, 2, 8, 5, 7, 4, 0], [1, 6, 3, 2, 8, 5, 7, 0, 4], [1, 6, 3, 2, 0, 5, 7, 8, 4], [1, 0, 3, 2, 6, 5, 7, 8, 4], [1, 3, 0, 2, 6, 5, 7, 8, 4], [1, 3, 5, 2, 6, 0, 7, 8, 4], [1, 3, 5, 2, 0, 6, 7, 8, 4], [1, 3, 5, 0, 2, 6, 7, 8, 4], [1, 3, 5, 7, 2, 6, 0, 8, 4], [1, 3, 5, 7, 2, 6, 8, 0, 4], [1, 3, 5, 7, 2, 6, 8, 4, 0], [1, 3, 5, 7, 2, 0, 8, 4, 6], [1, 3, 0, 7, 2, 5, 8, 4, 6], [1, 0, 3, 7, 2, 5, 8, 4, 6], [1, 2, 3, 7, 0, 5, 8, 4, 6], [1, 2, 3, 7, 4, 5, 8, 0, 6], [1, 2, 3, 7, 4, 5, 0, 8, 6], [1, 2, 3, 0, 4, 5, 7, 8, 6], [1, 2, 3, 4, 0, 5, 7, 8, 6], [1, 2, 3, 4, 5, 0, 7, 8, 6], [1, 2, 3, 4, 5, 6, 7, 8, 0]]\n",
      "[[8, 7, 6, 5, 1, 4, 2, 0, 3], [8, 7, 6, 5, 1, 4, 0, 2, 3], [8, 7, 6, 0, 1, 4, 5, 2, 3], [8, 7, 6, 1, 0, 4, 5, 2, 3], [8, 0, 6, 1, 7, 4, 5, 2, 3], [0, 8, 6, 1, 7, 4, 5, 2, 3], [1, 8, 6, 0, 7, 4, 5, 2, 3], [1, 8, 6, 5, 7, 4, 0, 2, 3], [1, 8, 6, 5, 7, 4, 2, 0, 3], [1, 8, 6, 5, 0, 4, 2, 7, 3], [1, 8, 6, 5, 4, 0, 2, 7, 3], [1, 8, 0, 5, 4, 6, 2, 7, 3], [1, 0, 8, 5, 4, 6, 2, 7, 3], [1, 4, 8, 5, 0, 6, 2, 7, 3], [1, 4, 8, 0, 5, 6, 2, 7, 3], [1, 4, 8, 2, 5, 6, 0, 7, 3], [1, 4, 8, 2, 5, 6, 7, 0, 3], [1, 4, 8, 2, 0, 6, 7, 5, 3], [1, 0, 8, 2, 4, 6, 7, 5, 3], [1, 8, 0, 2, 4, 6, 7, 5, 3], [1, 8, 6, 2, 4, 0, 7, 5, 3], [1, 8, 6, 2, 4, 3, 7, 5, 0], [1, 8, 6, 2, 4, 3, 7, 0, 5], [1, 8, 6, 2, 0, 3, 7, 4, 5], [1, 0, 6, 2, 8, 3, 7, 4, 5], [1, 6, 0, 2, 8, 3, 7, 4, 5], [1, 6, 3, 2, 8, 0, 7, 4, 5], [1, 6, 3, 2, 8, 5, 7, 4, 0], [1, 6, 3, 2, 8, 5, 7, 0, 4], [1, 6, 3, 2, 0, 5, 7, 8, 4], [1, 0, 3, 2, 6, 5, 7, 8, 4], [1, 3, 0, 2, 6, 5, 7, 8, 4], [1, 3, 5, 2, 6, 0, 7, 8, 4], [1, 3, 5, 2, 0, 6, 7, 8, 4], [1, 3, 5, 0, 2, 6, 7, 8, 4], [1, 3, 5, 7, 2, 6, 0, 8, 4], [1, 3, 5, 7, 2, 6, 8, 0, 4], [1, 3, 5, 7, 2, 6, 8, 4, 0], [1, 3, 5, 7, 2, 0, 8, 4, 6], [1, 3, 0, 7, 2, 5, 8, 4, 6], [1, 0, 3, 7, 2, 5, 8, 4, 6], [1, 2, 3, 7, 0, 5, 8, 4, 6], [1, 2, 3, 7, 4, 5, 8, 0, 6], [1, 2, 3, 7, 4, 5, 0, 8, 6], [1, 2, 3, 0, 4, 5, 7, 8, 6], [1, 2, 3, 4, 0, 5, 7, 8, 6], [1, 2, 3, 4, 5, 0, 7, 8, 6], [1, 2, 3, 4, 5, 6, 7, 8, 0]]\n",
      "[[1, 5, 7, 3, 6, 2, 0, 4, 8], [1, 5, 7, 0, 6, 2, 3, 4, 8], [0, 5, 7, 1, 6, 2, 3, 4, 8], [5, 0, 7, 1, 6, 2, 3, 4, 8], [5, 7, 0, 1, 6, 2, 3, 4, 8], [5, 7, 2, 1, 6, 0, 3, 4, 8], [5, 7, 2, 1, 0, 6, 3, 4, 8], [5, 0, 2, 1, 7, 6, 3, 4, 8], [0, 5, 2, 1, 7, 6, 3, 4, 8], [1, 5, 2, 0, 7, 6, 3, 4, 8], [1, 5, 2, 3, 7, 6, 0, 4, 8], [1, 5, 2, 3, 7, 6, 4, 0, 8], [1, 5, 2, 3, 0, 6, 4, 7, 8], [1, 5, 2, 0, 3, 6, 4, 7, 8], [1, 5, 2, 4, 3, 6, 0, 7, 8], [1, 5, 2, 4, 3, 6, 7, 0, 8], [1, 5, 2, 4, 3, 6, 7, 8, 0], [1, 5, 2, 4, 3, 0, 7, 8, 6], [1, 5, 2, 4, 0, 3, 7, 8, 6], [1, 0, 2, 4, 5, 3, 7, 8, 6], [1, 2, 0, 4, 5, 3, 7, 8, 6], [1, 2, 3, 4, 5, 0, 7, 8, 6], [1, 2, 3, 4, 5, 6, 7, 8, 0]]\n",
      "[[1, 5, 7, 3, 6, 2, 0, 4, 8], [1, 5, 7, 0, 6, 2, 3, 4, 8], [0, 5, 7, 1, 6, 2, 3, 4, 8], [5, 0, 7, 1, 6, 2, 3, 4, 8], [5, 7, 0, 1, 6, 2, 3, 4, 8], [5, 7, 2, 1, 6, 0, 3, 4, 8], [5, 7, 2, 1, 0, 6, 3, 4, 8], [5, 0, 2, 1, 7, 6, 3, 4, 8], [0, 5, 2, 1, 7, 6, 3, 4, 8], [1, 5, 2, 0, 7, 6, 3, 4, 8], [1, 5, 2, 7, 0, 6, 3, 4, 8], [1, 5, 2, 7, 4, 6, 3, 0, 8], [1, 5, 2, 7, 4, 6, 0, 3, 8], [1, 5, 2, 0, 4, 6, 7, 3, 8], [1, 5, 2, 4, 0, 6, 7, 3, 8], [1, 5, 2, 4, 3, 6, 7, 0, 8], [1, 5, 2, 4, 3, 6, 7, 8, 0], [1, 5, 2, 4, 3, 0, 7, 8, 6], [1, 5, 2, 4, 0, 3, 7, 8, 6], [1, 0, 2, 4, 5, 3, 7, 8, 6], [1, 2, 0, 4, 5, 3, 7, 8, 6], [1, 2, 3, 4, 5, 0, 7, 8, 6], [1, 2, 3, 4, 5, 6, 7, 8, 0]]\n",
      "[[1, 5, 7, 3, 6, 2, 0, 4, 8], [1, 5, 7, 3, 6, 2, 4, 0, 8], [1, 5, 7, 3, 6, 2, 4, 8, 0], [1, 5, 7, 3, 6, 0, 4, 8, 2], [1, 5, 7, 3, 0, 6, 4, 8, 2], [1, 5, 7, 0, 3, 6, 4, 8, 2], [1, 5, 7, 4, 3, 6, 0, 8, 2], [1, 5, 7, 4, 3, 6, 8, 0, 2], [1, 5, 7, 4, 3, 6, 8, 2, 0], [1, 5, 7, 4, 3, 0, 8, 2, 6], [1, 5, 7, 4, 0, 3, 8, 2, 6], [1, 0, 7, 4, 5, 3, 8, 2, 6], [1, 7, 0, 4, 5, 3, 8, 2, 6], [1, 7, 3, 4, 5, 0, 8, 2, 6], [1, 7, 3, 4, 0, 5, 8, 2, 6], [1, 0, 3, 4, 7, 5, 8, 2, 6], [1, 3, 0, 4, 7, 5, 8, 2, 6], [1, 3, 5, 4, 7, 0, 8, 2, 6], [1, 3, 5, 4, 7, 6, 8, 2, 0], [1, 3, 5, 4, 7, 6, 8, 0, 2], [1, 3, 5, 4, 0, 6, 8, 7, 2], [1, 3, 5, 4, 6, 0, 8, 7, 2], [1, 3, 0, 4, 6, 5, 8, 7, 2], [1, 0, 3, 4, 6, 5, 8, 7, 2], [1, 6, 3, 4, 0, 5, 8, 7, 2], [1, 6, 3, 4, 5, 0, 8, 7, 2], [1, 6, 3, 4, 5, 2, 8, 7, 0], [1, 6, 3, 4, 5, 2, 8, 0, 7], [1, 6, 3, 4, 0, 2, 8, 5, 7], [1, 0, 3, 4, 6, 2, 8, 5, 7], [1, 3, 0, 4, 6, 2, 8, 5, 7], [1, 3, 2, 4, 6, 0, 8, 5, 7], [1, 3, 2, 4, 0, 6, 8, 5, 7], [1, 0, 2, 4, 3, 6, 8, 5, 7], [1, 2, 0, 4, 3, 6, 8, 5, 7], [1, 2, 6, 4, 3, 0, 8, 5, 7], [1, 2, 6, 4, 0, 3, 8, 5, 7], [1, 2, 6, 4, 5, 3, 8, 0, 7], [1, 2, 6, 4, 5, 3, 0, 8, 7], [1, 2, 6, 0, 5, 3, 4, 8, 7], [1, 2, 6, 5, 0, 3, 4, 8, 7], [1, 2, 6, 5, 8, 3, 4, 0, 7], [1, 2, 6, 5, 8, 3, 4, 7, 0], [1, 2, 6, 5, 8, 0, 4, 7, 3], [1, 2, 6, 5, 0, 8, 4, 7, 3], [1, 2, 6, 0, 5, 8, 4, 7, 3], [1, 2, 6, 4, 5, 8, 0, 7, 3], [1, 2, 6, 4, 5, 8, 7, 0, 3], [1, 2, 6, 4, 5, 8, 7, 3, 0], [1, 2, 6, 4, 5, 0, 7, 3, 8], [1, 2, 0, 4, 5, 6, 7, 3, 8], [1, 0, 2, 4, 5, 6, 7, 3, 8], [1, 5, 2, 4, 0, 6, 7, 3, 8], [1, 5, 2, 4, 3, 6, 7, 0, 8], [1, 5, 2, 4, 3, 6, 7, 8, 0], [1, 5, 2, 4, 3, 0, 7, 8, 6], [1, 5, 2, 4, 0, 3, 7, 8, 6], [1, 0, 2, 4, 5, 3, 7, 8, 6], [1, 2, 0, 4, 5, 3, 7, 8, 6], [1, 2, 3, 4, 5, 0, 7, 8, 6], [1, 2, 3, 4, 5, 6, 7, 8, 0]]\n",
      "[[1, 5, 7, 3, 6, 2, 0, 4, 8], [1, 5, 7, 3, 6, 2, 4, 0, 8], [1, 5, 7, 3, 6, 2, 4, 8, 0], [1, 5, 7, 3, 6, 0, 4, 8, 2], [1, 5, 7, 3, 0, 6, 4, 8, 2], [1, 5, 7, 0, 3, 6, 4, 8, 2], [1, 5, 7, 4, 3, 6, 0, 8, 2], [1, 5, 7, 4, 3, 6, 8, 0, 2], [1, 5, 7, 4, 3, 6, 8, 2, 0], [1, 5, 7, 4, 3, 0, 8, 2, 6], [1, 5, 7, 4, 0, 3, 8, 2, 6], [1, 0, 7, 4, 5, 3, 8, 2, 6], [1, 7, 0, 4, 5, 3, 8, 2, 6], [1, 7, 3, 4, 5, 0, 8, 2, 6], [1, 7, 3, 4, 0, 5, 8, 2, 6], [1, 0, 3, 4, 7, 5, 8, 2, 6], [1, 3, 0, 4, 7, 5, 8, 2, 6], [1, 3, 5, 4, 7, 0, 8, 2, 6], [1, 3, 5, 4, 7, 6, 8, 2, 0], [1, 3, 5, 4, 7, 6, 8, 0, 2], [1, 3, 5, 4, 0, 6, 8, 7, 2], [1, 3, 5, 4, 6, 0, 8, 7, 2], [1, 3, 0, 4, 6, 5, 8, 7, 2], [1, 0, 3, 4, 6, 5, 8, 7, 2], [1, 6, 3, 4, 0, 5, 8, 7, 2], [1, 6, 3, 4, 5, 0, 8, 7, 2], [1, 6, 3, 4, 5, 2, 8, 7, 0], [1, 6, 3, 4, 5, 2, 8, 0, 7], [1, 6, 3, 4, 0, 2, 8, 5, 7], [1, 0, 3, 4, 6, 2, 8, 5, 7], [1, 3, 0, 4, 6, 2, 8, 5, 7], [1, 3, 2, 4, 6, 0, 8, 5, 7], [1, 3, 2, 4, 0, 6, 8, 5, 7], [1, 0, 2, 4, 3, 6, 8, 5, 7], [1, 2, 0, 4, 3, 6, 8, 5, 7], [1, 2, 6, 4, 3, 0, 8, 5, 7], [1, 2, 6, 4, 0, 3, 8, 5, 7], [1, 2, 6, 4, 5, 3, 8, 0, 7], [1, 2, 6, 4, 5, 3, 0, 8, 7], [1, 2, 6, 0, 5, 3, 4, 8, 7], [1, 2, 6, 5, 0, 3, 4, 8, 7], [1, 2, 6, 5, 8, 3, 4, 0, 7], [1, 2, 6, 5, 8, 3, 4, 7, 0], [1, 2, 6, 5, 8, 0, 4, 7, 3], [1, 2, 6, 5, 0, 8, 4, 7, 3], [1, 2, 6, 0, 5, 8, 4, 7, 3], [1, 2, 6, 4, 5, 8, 0, 7, 3], [1, 2, 6, 4, 5, 8, 7, 0, 3], [1, 2, 6, 4, 5, 8, 7, 3, 0], [1, 2, 6, 4, 5, 0, 7, 3, 8], [1, 2, 0, 4, 5, 6, 7, 3, 8], [1, 0, 2, 4, 5, 6, 7, 3, 8], [1, 5, 2, 4, 0, 6, 7, 3, 8], [1, 5, 2, 4, 3, 6, 7, 0, 8], [1, 5, 2, 4, 3, 6, 7, 8, 0], [1, 5, 2, 4, 3, 0, 7, 8, 6], [1, 5, 2, 4, 0, 3, 7, 8, 6], [1, 0, 2, 4, 5, 3, 7, 8, 6], [1, 2, 0, 4, 5, 3, 7, 8, 6], [1, 2, 3, 4, 5, 0, 7, 8, 6], [1, 2, 3, 4, 5, 6, 7, 8, 0]]\n",
      "{'puzzle': [0, 1, 2, 3, 4, 5, 8, 6, 7], 'algorithm': 'astar', 'heuristic': 'manhattan', 'expanded nodes': 994, 'execution time': 0.012613058090209961, 'path cost': 22}\n",
      "{'puzzle': [0, 1, 2, 3, 4, 5, 8, 6, 7], 'algorithm': 'astar', 'heuristic': 'hamming', 'expanded nodes': 5626, 'execution time': 0.03942060470581055, 'path cost': 22}\n",
      "{'puzzle': [0, 1, 2, 3, 4, 5, 8, 6, 7], 'algorithm': 'greedy', 'heuristic': 'manhattan', 'expanded nodes': 609, 'execution time': 0.004933357238769531, 'path cost': 62}\n",
      "{'puzzle': [0, 1, 2, 3, 4, 5, 8, 6, 7], 'algorithm': 'greedy', 'heuristic': 'hamming', 'expanded nodes': 609, 'execution time': 0.005233049392700195, 'path cost': 62}\n",
      "{'puzzle': [8, 7, 6, 5, 1, 4, 2, 0, 3], 'algorithm': 'astar', 'heuristic': 'manhattan', 'expanded nodes': 9431, 'execution time': 0.14573192596435547, 'path cost': 29}\n",
      "{'puzzle': [8, 7, 6, 5, 1, 4, 2, 0, 3], 'algorithm': 'astar', 'heuristic': 'hamming', 'expanded nodes': 79712, 'execution time': 0.8108594417572021, 'path cost': 29}\n",
      "{'puzzle': [8, 7, 6, 5, 1, 4, 2, 0, 3], 'algorithm': 'greedy', 'heuristic': 'manhattan', 'expanded nodes': 82, 'execution time': 0.000713348388671875, 'path cost': 47}\n",
      "{'puzzle': [8, 7, 6, 5, 1, 4, 2, 0, 3], 'algorithm': 'greedy', 'heuristic': 'hamming', 'expanded nodes': 82, 'execution time': 0.000621795654296875, 'path cost': 47}\n",
      "{'puzzle': [1, 5, 7, 3, 6, 2, 0, 4, 8], 'algorithm': 'astar', 'heuristic': 'manhattan', 'expanded nodes': 536, 'execution time': 0.005330085754394531, 'path cost': 22}\n",
      "{'puzzle': [1, 5, 7, 3, 6, 2, 0, 4, 8], 'algorithm': 'astar', 'heuristic': 'hamming', 'expanded nodes': 5694, 'execution time': 0.03462529182434082, 'path cost': 22}\n",
      "{'puzzle': [1, 5, 7, 3, 6, 2, 0, 4, 8], 'algorithm': 'greedy', 'heuristic': 'manhattan', 'expanded nodes': 653, 'execution time': 0.00483393669128418, 'path cost': 60}\n",
      "{'puzzle': [1, 5, 7, 3, 6, 2, 0, 4, 8], 'algorithm': 'greedy', 'heuristic': 'hamming', 'expanded nodes': 653, 'execution time': 0.0048410892486572266, 'path cost': 60}\n"
     ]
    }
   ],
   "source": [
    "import time\n",
    "evaluation_results = []\n",
    "\n",
    "puzzle_configurations = [[0, 1, 2, 3, 4, 5, 8, 6, 7], [8, 7, 6, 5, 1, 4, 2, 0, 3], [1, 5, 7, 3, 6, 2, 0, 4, 8]]\n",
    "algorithms_to_test = {'astar': astar_search, 'greedy': greedy_search}\n",
    "heuristics = {'manhattan': manhattan_distance, 'hamming': hamming_distance}\n",
    "\n",
    "def trial_algorithms_heuristics():\n",
    "    \n",
    "    for configuration in puzzle_configurations:\n",
    "        for algorithm_name, algorithm in algorithms_to_test.items():\n",
    "            for heuristic_name, heuristic in heuristics.items():\n",
    "                \n",
    "                puzzle_to_test = Puzzle(configuration)\n",
    "                \n",
    "                start = time.time()\n",
    "                path, expanded_nodes = algorithm(puzzle_to_test, heuristic)\n",
    "                finish = time.time()\n",
    "                \n",
    "                path_cost = len(path) - 1 if path else 0\n",
    "\n",
    "                \n",
    "                result = {\n",
    "                    'puzzle': configuration,\n",
    "                    'algorithm': algorithm_name,\n",
    "                    'heuristic': heuristic_name,\n",
    "                    'expanded nodes': expanded_nodes,\n",
    "                    'execution time': finish - start,\n",
    "                    'path cost': path_cost\n",
    "                }\n",
    "                evaluation_results.append(result)\n",
    "    \n",
    "    for result in evaluation_results:\n",
    "           print (result)\n",
    "\n",
    "trial_algorithms_heuristics()\n",
    "# YOUR CODE HERE\n",
    "#raise NotImplementedError()"
   ]
  },
  {
   "cell_type": "code",
   "execution_count": null,
   "id": "25a2418e",
   "metadata": {
    "deletable": false,
    "editable": false,
    "nbgrader": {
     "cell_type": "code",
     "checksum": "c71b7e21d9e31d22446356f0d404ee79",
     "grade": true,
     "grade_id": "test_Astar_implementation_E0",
     "locked": true,
     "points": 5,
     "schema_version": 3,
     "solution": false,
     "task": false
    }
   },
   "outputs": [],
   "source": []
  }
 ],
 "metadata": {
  "kernelspec": {
   "display_name": "Python 3 (ipykernel)",
   "language": "python",
   "name": "python3"
  },
  "language_info": {
   "codemirror_mode": {
    "name": "ipython",
    "version": 3
   },
   "file_extension": ".py",
   "mimetype": "text/x-python",
   "name": "python",
   "nbconvert_exporter": "python",
   "pygments_lexer": "ipython3",
   "version": "3.11.4"
  }
 },
 "nbformat": 4,
 "nbformat_minor": 5
}
