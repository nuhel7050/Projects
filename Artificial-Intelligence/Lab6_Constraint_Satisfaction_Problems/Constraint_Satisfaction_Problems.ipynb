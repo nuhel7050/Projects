{
 "cells": [
  {
   "cell_type": "markdown",
   "id": "b103c5ea",
   "metadata": {
    "deletable": false,
    "editable": false,
    "nbassignment": {
     "type": "header"
    },
    "nbgrader": {
     "cell_type": "markdown",
     "checksum": "8a2f44b0632c99f7bdf8a6153134cf12",
     "grade": false,
     "grade_id": "HeaderA",
     "locked": true,
     "schema_version": 3,
     "solution": false,
     "task": false
    }
   },
   "source": [
    "# Artificial Intelligence for Robotics 06\n",
    "\n",
    "## General Information:\n",
    "Please do not add or delete any cells. Answers belong into the corresponding cells (below the question). If a function is given (either as a signature or a full function), you should not change the name, arguments or return value of the function.\n",
    "\n",
    "If you encounter empty cells underneath the answer that can not be edited, please ignore them, they are for testing purposes.\n",
    "\n",
    "When editing an assignment there can be the case that there are variables in the kernel. To make sure your assignment works, please restart the kernel and run all cells before submitting (e.g. via Kernel -> Restart & Run All).\n",
    "\n",
    "Code cells where you are supposed to give your answer often include the line `raise NotImplementedError`. This makes it easier to automatically grade answers. If you edit the cell please outcomment or delete this line.\n",
    "\n",
    "## Submission:\n",
    "Please submit your notebook via the web interface (in the main view -> Assignments -> Submit). The assignments are **due on Monday at 20:00**.\n",
    "\n",
    "## Group Work:\n",
    "Please enter your UID (your username here) and those of your group partners into the next cell. We apply plagiarism checking, so do not submit others solutions! If an assignment has a copied solution, the task will be graded with 0 points for all people with the same solution.\n",
    "\n",
    "## Questions about the Assignment:\n",
    "If you have questions about the assignment please post them in the LEA forum before the deadline. Don't wait until the last day to post questions!"
   ]
  },
  {
   "cell_type": "markdown",
   "id": "269910cd",
   "metadata": {
    "deletable": false,
    "editable": false,
    "nbassignment": {
     "type": "header"
    },
    "nbgrader": {
     "cell_type": "markdown",
     "checksum": "93d376da99c86b4fabd2542101dc5ec7",
     "grade": false,
     "grade_id": "cell-4a94f4450f12f33c",
     "locked": true,
     "schema_version": 3,
     "solution": false,
     "task": false
    }
   },
   "source": [
    "### Please add the usernames of all your team members in the manner member1, member2 in next cell (example given below)\n",
    "\n",
    "member1 = 'example'\n",
    "\n",
    "member2 = 'example2'\n",
    "\n",
    "#### If you are not working in a group, then please add member2 as none2s"
   ]
  },
  {
   "cell_type": "code",
   "execution_count": 9,
   "id": "72243e7a",
   "metadata": {
    "ExecuteTime": {
     "end_time": "2024-12-01T12:24:16.963664Z",
     "start_time": "2024-12-01T12:24:16.959755Z"
    },
    "deletable": false,
    "nbassignment": {
     "type": "group_info"
    },
    "nbgrader": {
     "cell_type": "code",
     "checksum": "2ef735ca9199180a82193d39df17789b",
     "grade": false,
     "grade_id": "cell-a9c2f4587c671f98",
     "locked": false,
     "schema_version": 3,
     "solution": true,
     "task": false
    }
   },
   "outputs": [],
   "source": [
    "# YOUR CODE HERE\n",
    "member1 = 'ahoosh2s'\n",
    "member2 = 'anuhel2s'\n",
    "#raise NotImplementedError()"
   ]
  },
  {
   "cell_type": "code",
   "execution_count": 10,
   "id": "58d35b9d",
   "metadata": {
    "ExecuteTime": {
     "end_time": "2024-12-01T12:24:19.314231Z",
     "start_time": "2024-12-01T12:24:19.307320Z"
    },
    "deletable": false,
    "editable": false,
    "nbassignment": {
     "type": "header"
    },
    "nbgrader": {
     "cell_type": "code",
     "checksum": "90856a52a0162f78566c398792f29a27",
     "grade": true,
     "grade_id": "cell-e27ced94e387fe18",
     "locked": true,
     "points": 0,
     "schema_version": 3,
     "solution": false,
     "task": false
    }
   },
   "outputs": [
    {
     "name": "stdout",
     "output_type": "stream",
     "text": [
      "All tests passed!\n"
     ]
    }
   ],
   "source": [
    "# Execute this cell to make sure you correctly filled in the usernames of the team members\n",
    "\n",
    "def group_name_test():\n",
    "    for member_id in [member1, member2]:\n",
    "        assert isinstance(member_id, str), \"Please give your member id as a string.\"\n",
    "        assert len(member_id) > 0, \"You need to fill in the member id for both members\"\n",
    "        assert member_id.endswith(\"2s\"), \"The member id should end with 2s (Your JupyterHub username)\"\n",
    "\n",
    "group_name_test() \n",
    "print(\"All tests passed!\")"
   ]
  },
  {
   "cell_type": "markdown",
   "id": "541ddd4c",
   "metadata": {
    "deletable": false,
    "editable": false,
    "nbgrader": {
     "cell_type": "markdown",
     "checksum": "ff02ea842ba7723d935b30b617a6cfd7",
     "grade": false,
     "grade_id": "taskheader_1",
     "locked": true,
     "schema_version": 3,
     "solution": false,
     "task": false
    }
   },
   "source": [
    "# Task 1\n",
    "\n",
    "**[10 Point(s)]**"
   ]
  },
  {
   "cell_type": "markdown",
   "id": "eb63966e",
   "metadata": {
    "deletable": false,
    "editable": false,
    "nbgrader": {
     "cell_type": "markdown",
     "checksum": "400a921023114868055f2787f40eb606",
     "grade": false,
     "grade_id": "csp_colourability_Acsp_colourability_B_Header",
     "locked": true,
     "schema_version": 3,
     "solution": false,
     "task": false
    }
   },
   "source": [
    "\n",
    "# Colourability Problem\n",
    "\n",
    "The map-colouring CSP, is to assign a color to each region of a map such that any two regions sharing a border have different colors.\n",
    "\n",
    "The constraints for the map-colouring problem can be expressed as follows:\n",
    "- Each region is assigned one color only, of $C$ possible colors.\n",
    "- The color assigned to one reagion cannot be assigned to adjacent regions.\n",
    "\n",
    "Lets consider a small exmaple. Given a province map of Canada, find a 4-Colouring that adheres to the above constraints.\n",
    "\n",
    "The following image shows one such four colouring\n",
    "![Map Colouring](Constraint_Satisfaction_Problems_files/img/map_colouring.png)"
   ]
  },
  {
   "cell_type": "markdown",
   "id": "4f3f009a",
   "metadata": {
    "deletable": false,
    "editable": false,
    "nbgrader": {
     "cell_type": "markdown",
     "checksum": "891a6efe4726f94b17000853960c5d8f",
     "grade": false,
     "grade_id": "taskheader_1_1",
     "locked": true,
     "schema_version": 3,
     "solution": false,
     "task": false
    }
   },
   "source": [
    "## Task 1.1\n",
    "\n",
    "**[5 Point(s)]**"
   ]
  },
  {
   "cell_type": "markdown",
   "id": "02a33a80",
   "metadata": {
    "deletable": false,
    "editable": false,
    "nbgrader": {
     "cell_type": "markdown",
     "checksum": "f8c99244295b80a3ded805e98826bba5",
     "grade": false,
     "grade_id": "csp_colourability_A_Description0",
     "locked": true,
     "schema_version": 3,
     "solution": false,
     "task": false
    }
   },
   "source": [
    "## Formalisation as Graphs\n",
    "\n",
    "As you have learned in the lecture, such CSP's can be formulated as undirected graphs, where the *vertices* $V$ represent the provinces and edges $E$ shared borders.\n",
    "\n",
    "Luckily, there are quite powerful graph libraries available for python, such as [networkx](https://networkx.org/), which we will use for this assignment.\n",
    "\n",
    "Lets continue with our exmaple:\n",
    "\n",
    "Canada's 13 provinces are denoted by postal codes:\n",
    "\n",
    "| Code | Province | Code | Province | Code | Province |\n",
    "|------|----------|------|----------|------|----------|\n",
    "| AB | Alberta | BC | British Columbia | ON | Ontario | PE | Prince Edward Island |\n",
    "| MB | Manitoba | NB | New Brunswick | QC | Quebec | SK | Saskatchewan |\n",
    "| NL | Newfoundland and Labrador | NS | Nova Scotia | NT | Northwest Territories | NU | Nunavut |\n",
    "\n",
    "Using networkx we can now represent the province map of Canda as a graph, where the set of vertices is composed of Canadas provinces."
   ]
  },
  {
   "cell_type": "code",
   "execution_count": null,
   "id": "0d348b46",
   "metadata": {
    "ExecuteTime": {
     "end_time": "2024-12-01T12:21:36.189372Z",
     "start_time": "2024-12-01T12:21:36.189358Z"
    },
    "deletable": false,
    "editable": false,
    "nbgrader": {
     "cell_type": "code",
     "checksum": "6e5b5e56e144b15b12fa5c7b954ce1c6",
     "grade": false,
     "grade_id": "csp_colourability_A_Description1",
     "locked": true,
     "schema_version": 3,
     "solution": false,
     "task": false
    }
   },
   "outputs": [],
   "source": [
    "import networkx as nx\n",
    "import matplotlib.pyplot as plt\n",
    "\n",
    "# Represent the map as the nodes and edges of a graph\n",
    "provinces = ['AB', 'BC', 'MB', 'NB', 'NL', 'NS', 'NT', 'NU', 'ON', 'PE', 'QC', 'SK', 'YT']\n",
    "neighbors = [('AB', 'BC'), ('AB', 'NT'), ('AB', 'SK'), ('BC', 'NT'), ('BC', 'YT'), ('MB', 'NU'),\n",
    "             ('MB', 'ON'), ('MB', 'SK'), ('NB', 'NS'), ('NB', 'QC'), ('NL', 'QC'), ('NT', 'NU'),\n",
    "             ('NT', 'SK'), ('NT', 'YT'), ('ON', 'QC')]\n",
    "\n",
    "# Construct the networkx graph\n",
    "G = nx.Graph()\n",
    "G.add_nodes_from(provinces)\n",
    "G.add_edges_from(neighbors)\n",
    "\n",
    "# Plot the graph\n",
    "nx.draw_circular(G, with_labels=True, node_size=1600, cmap=plt.cm.rainbow)\n",
    "plt.show()"
   ]
  },
  {
   "cell_type": "markdown",
   "id": "4c1705ef",
   "metadata": {
    "deletable": false,
    "editable": false,
    "nbgrader": {
     "cell_type": "markdown",
     "checksum": "3c91ee2a76bbbc61a8b9aca95387a2d4",
     "grade": false,
     "grade_id": "csp_colourability_A_Description2",
     "locked": true,
     "schema_version": 3,
     "solution": false,
     "task": false
    }
   },
   "source": [
    "Be aware of the [Drawing](https://networkx.org/documentation/stable/reference/drawing.html) module of `networkx`. There are different ways to plot graphs.\n",
    "\n",
    "The easiest and safest way to get a good impression of the graph is usually `nx.draw(G)`, which gives `networkx` full control over node placement."
   ]
  },
  {
   "cell_type": "code",
   "execution_count": null,
   "id": "9bee5a09",
   "metadata": {
    "ExecuteTime": {
     "end_time": "2024-12-01T12:21:36.190241Z",
     "start_time": "2024-12-01T12:21:36.190228Z"
    },
    "deletable": false,
    "editable": false,
    "nbgrader": {
     "cell_type": "code",
     "checksum": "5c9434c169c4de1838fb2063bcd191d5",
     "grade": false,
     "grade_id": "csp_colourability_A_Description3",
     "locked": true,
     "schema_version": 3,
     "solution": false,
     "task": false
    }
   },
   "outputs": [],
   "source": [
    "nx.draw(G, with_labels=True, node_size=500)"
   ]
  },
  {
   "cell_type": "markdown",
   "id": "bc65a6f2",
   "metadata": {
    "deletable": false,
    "editable": false,
    "nbgrader": {
     "cell_type": "markdown",
     "checksum": "e452b6531e529692a2dbd9a98cba4554",
     "grade": false,
     "grade_id": "csp_colourability_A_Description4",
     "locked": true,
     "schema_version": 3,
     "solution": false,
     "task": false
    }
   },
   "source": [
    "# 7-Colouring Germany\n",
    "\n",
    "Now that you know the basics of how to turn a real world CSP into an *undirected graph* using `networkx`, you will now apply this to a new problem.\n",
    "\n",
    "You are given the following map of Germany [[ISO 3166-2;DE](https://en.wikipedia.org/wiki/ISO_3166-2:DE)]\n",
    "![Germany](Constraint_Satisfaction_Problems_files/img/states_of_germany.svg)\n",
    "\n",
    "Together with the state codes tabel\n",
    "\n",
    "| Code | Subdivision Name (DE) | Subdivision Name (EN) |\n",
    "|------|-----------------------|-----------------------|\n",
    "| BW | Baden-Württemberg | Baden-Württemberg |\n",
    "| BY | Bayern | Bavaria |\n",
    "| BE | Berlin | Berlin |\n",
    "| BB | Brandenburg | Brandenburg |\n",
    "| HB | Bremen | Bremen |\n",
    "| HH | Hamburg | Hamburg |\n",
    "| HE | Hessen | Hesse |\n",
    "| MV | Mecklenburg-Vorpommern | Mecklenburg-Western Pomerania |\n",
    "| NI | Niedersachsen | Lower Saxony |\n",
    "| NW | Nordrhein-Westfalen | North Rhine-Westphalia |\n",
    "| RP | Rheinland-Pfalz | Rhineland-Palatinate |\n",
    "| SL | Saarland | Saarland |\n",
    "| SN | Sachsen | Saxony |\n",
    "| ST | Sachsen-Anhalt | Saxony-Anhalt |\n",
    "| SH | Schleswig-Holstein | Schleswig-Holstein |\n",
    "| TH | Thüringen | Thuringia |"
   ]
  },
  {
   "cell_type": "markdown",
   "id": "87076aca",
   "metadata": {
    "deletable": false,
    "editable": false,
    "nbgrader": {
     "cell_type": "markdown",
     "checksum": "c88544d66f203042cbe24a6662e703d1",
     "grade": false,
     "grade_id": "csp_colourability_A_Description5",
     "locked": true,
     "schema_version": 3,
     "solution": false,
     "task": false
    }
   },
   "source": [
    "## Graph [5 Points]\n",
    "\n",
    "Formulate this map colouring problem as an undirected graph using `networkx`. Store the resulting graph in the variable `G` and plot it."
   ]
  },
  {
   "cell_type": "code",
   "execution_count": 11,
   "id": "0a1af498",
   "metadata": {
    "ExecuteTime": {
     "end_time": "2024-12-01T12:25:06.302006Z",
     "start_time": "2024-12-01T12:25:06.055327Z"
    },
    "deletable": false,
    "nbgrader": {
     "cell_type": "code",
     "checksum": "6739de138dfb6ac2e5b16cbc59912260",
     "grade": false,
     "grade_id": "csp_colourability_A",
     "locked": false,
     "schema_version": 3,
     "solution": true,
     "task": false
    }
   },
   "outputs": [
    {
     "ename": "NotImplementedError",
     "evalue": "",
     "output_type": "error",
     "traceback": [
      "\u001b[0;31m---------------------------------------------------------------------------\u001b[0m",
      "\u001b[0;31mNotImplementedError\u001b[0m                       Traceback (most recent call last)",
      "Cell \u001b[0;32mIn[11], line 55\u001b[0m\n\u001b[1;32m     51\u001b[0m \u001b[38;5;66;03m#nx.draw(\u001b[39;00m\n\u001b[1;32m     52\u001b[0m \u001b[38;5;66;03m#    G, with_labels=True, node_color='lightblue', node_size=2000,\u001b[39;00m\n\u001b[1;32m     53\u001b[0m \u001b[38;5;66;03m#    font_size=10, edge_color='gray')\u001b[39;00m\n\u001b[1;32m     54\u001b[0m nx\u001b[38;5;241m.\u001b[39mdraw_circular(G, with_labels\u001b[38;5;241m=\u001b[39m\u001b[38;5;28;01mTrue\u001b[39;00m, node_size\u001b[38;5;241m=\u001b[39m\u001b[38;5;241m1600\u001b[39m, cmap\u001b[38;5;241m=\u001b[39mplt\u001b[38;5;241m.\u001b[39mcm\u001b[38;5;241m.\u001b[39mrainbow)\n\u001b[0;32m---> 55\u001b[0m \u001b[38;5;28;01mraise\u001b[39;00m \u001b[38;5;167;01mNotImplementedError\u001b[39;00m()\n",
      "\u001b[0;31mNotImplementedError\u001b[0m: "
     ]
    },
    {
     "data": {
      "image/png": "[encoded data removed]",
      "text/plain": [
       "<Figure size 640x480 with 1 Axes>"
      ]
     },
     "metadata": {},
     "output_type": "display_data"
    }
   ],
   "source": [
    "import networkx as nx\n",
    "import matplotlib.pyplot as plt\n",
    "\n",
    "# YOUR CODE HERE\n",
    "#List of German states (abbreviations)\n",
    "provinces = ['BW', 'BY', 'BE', 'BB', 'HB', 'HH', 'HE', 'MV', 'NI', 'NW', 'RP', 'SL', 'SN', 'ST', 'SH', 'TH']\n",
    "\n",
    "# Define neighboring relations between states\n",
    "# Each tuple represents a connection between two neighboring states\n",
    "neighbors = [\n",
    "    ('BW', 'BY'),  # Baden-Württemberg - Bayern\n",
    "    ('BW', 'HE'),  # Baden-Württemberg - Hessen\n",
    "    ('BW', 'RP'),  # Baden-Württemberg - Rheinland-Pfalz\n",
    "    ('BY', 'HE'),  # Bayern - Hessen\n",
    "    ('BY', 'TH'),  # Bayern - Thüringen\n",
    "    ('BY', 'SN'),  # Bayern - Sachsen\n",
    "    ('BE', 'BB'),  # Berlin - Brandenburg\n",
    "    ('BB', 'MV'),  # Brandenburg - Mecklenburg-Vorpommern\n",
    "    ('BB', 'SN'),  # Brandenburg - Sachsen\n",
    "    ('BB', 'ST'),  # Brandenburg - Sachsen-Anhalt\n",
    "    ('HB', 'NI'),  # Bremen - Niedersachsen\n",
    "    ('HH', 'NI'),  # Hamburg - Niedersachsen\n",
    "    ('HH', 'SH'),  # Hamburg - Schleswig-Holstein\n",
    "    ('HE', 'NI'),  # Hessen - Niedersachsen\n",
    "    ('HE', 'NW'),  # Hessen - Nordrhein-Westfalen\n",
    "    ('HE', 'RP'),  # Hessen - Rheinland-Pfalz\n",
    "    ('HE', 'TH'),  # Hessen - Thüringen\n",
    "    ('MV', 'NI'),  # Mecklenburg-Vorpommern - Niedersachsen\n",
    "    ('MV', 'SH'),  # Mecklenburg-Vorpommern - Schleswig-Holstein\n",
    "    ('MV', 'BB'),  # Mecklenburg-Vorpommern - Brandenburg\n",
    "    ('NI', 'NW'),  # Niedersachsen - Nordrhein-Westfalen\n",
    "    ('NI', 'SH'),  # Niedersachsen - Schleswig-Holstein\n",
    "    ('NI', 'ST'),  # Niedersachsen - Sachsen-Anhalt\n",
    "    ('NW', 'RP'),  # Nordrhein-Westfalen - Rheinland-Pfalz\n",
    "    ('NW', 'SL'),  # Nordrhein-Westfalen - Saarland\n",
    "    ('RP', 'SL'),  # Rheinland-Pfalz - Saarland\n",
    "    ('RP', 'HE'),  # Rheinland-Pfalz - Hessen\n",
    "    ('SN', 'ST'),  # Sachsen - Sachsen-Anhalt\n",
    "    ('SN', 'TH'),  # Sachsen - Thüringen\n",
    "    ('ST', 'TH')   # Sachsen-Anhalt - Thüringen\n",
    "]\n",
    "\n",
    "# Create the graph\n",
    "G = nx.Graph()\n",
    "\n",
    "# Add edges to the graph\n",
    "G.add_edges_from(neighbors)\n",
    "\n",
    "# Add nodes to ensure all provinces are included, even those without explicit neighbors\n",
    "G.add_nodes_from(provinces) \n",
    "#nx.draw(\n",
    "#    G, with_labels=True, node_color='lightblue', node_size=2000,\n",
    "#    font_size=10, edge_color='gray')\n",
    "nx.draw_circular(G, with_labels=True, node_size=1600, cmap=plt.cm.rainbow)\n",
    "#raise NotImplementedError()"
   ]
  },
  {
   "cell_type": "code",
   "execution_count": null,
   "id": "cc022a83",
   "metadata": {
    "deletable": false,
    "editable": false,
    "nbgrader": {
     "cell_type": "code",
     "checksum": "7279f43b30a81557a5fde4f2fce00a67",
     "grade": true,
     "grade_id": "test_csp_colourability_A0",
     "locked": true,
     "points": 5,
     "schema_version": 3,
     "solution": false,
     "task": false
    }
   },
   "outputs": [],
   "source": []
  },
  {
   "cell_type": "markdown",
   "id": "d7d5ecd5",
   "metadata": {
    "deletable": false,
    "editable": false,
    "nbgrader": {
     "cell_type": "markdown",
     "checksum": "e37bf6c056bcd226b66ded0e4112924f",
     "grade": false,
     "grade_id": "taskheader_1_2",
     "locked": true,
     "schema_version": 3,
     "solution": false,
     "task": false
    }
   },
   "source": [
    "## Task 1.2\n",
    "\n",
    "**[5 Point(s)]**"
   ]
  },
  {
   "cell_type": "markdown",
   "id": "46b27ef7",
   "metadata": {
    "deletable": false,
    "editable": false,
    "nbgrader": {
     "cell_type": "markdown",
     "checksum": "99f0a9bb5fb0b2c80ba4427afdcdc295",
     "grade": false,
     "grade_id": "csp_colourability_B_Description0",
     "locked": true,
     "schema_version": 3,
     "solution": false,
     "task": false
    }
   },
   "source": [
    "## Constraints [5 Points]\n",
    "\n",
    "With the colourability problem formalised, let us now define the constraints that make the problem a *constraint satisfaction problem*. Namely, two neighbouring federal states in the federal map of germany, are not allowed to have the same color assigned to them. And every federal state has to have one of the possible colors assigned.\n",
    "- Each region is assigned one color only, of $C$ possible colors.\n",
    "- The color assigned to one reagion cannot be assigned to adjacent regions.\n",
    "\n",
    "Consider $C$={'C0', 'C1', 'C2', 'C3', 'C4', 'C5', 'C6'}, where each color directly corresponds to the respective [matplotlib default color](https://matplotlib.org/stable/users/dflt_style_changes.html). This is called the `domain` from now on. It is a set of possible color assignments.\n",
    "\n",
    "Keep in mind, that `'white'` denotes unassignmed variables!\n",
    "\n",
    "Implement those two constraints **by completing the function outlined below**!"
   ]
  },
  {
   "cell_type": "code",
   "execution_count": 12,
   "id": "b5ed359a",
   "metadata": {
    "ExecuteTime": {
     "end_time": "2024-12-01T12:25:26.523416Z",
     "start_time": "2024-12-01T12:25:26.514374Z"
    },
    "deletable": false,
    "nbgrader": {
     "cell_type": "code",
     "checksum": "6f043df0c4a0cca2154c9bd8fb2af6c3",
     "grade": false,
     "grade_id": "csp_colourability_B",
     "locked": false,
     "schema_version": 3,
     "solution": true,
     "task": false
    }
   },
   "outputs": [],
   "source": [
    "import networkx as nx\n",
    "from networkx.classes.graph import Graph\n",
    "from typing import Set\n",
    "\n",
    "\n",
    "def constraints(csp: Graph, domain: Set[str], A: str, a: str, B: str, b: str) -> bool:\n",
    "    \"\"\"Defines the constraints on two neighbouring variables.\n",
    "    \n",
    "    Args:\n",
    "        csp: The CSP formalised as a graph.\n",
    "        domain: A set of allowed values for the CSP.\n",
    "        A: The ID of the vertex that represents the first variable\n",
    "        a: Value assigned to the first variable\n",
    "        B: The ID of the vertex that represents the second variable\n",
    "        b: Value assigned to the second variable\n",
    "\n",
    "    Returns:\n",
    "        True if neighbors A, B satisfy the constraint when they have values A=a, B=b.\n",
    "        Else, False.\n",
    "    \"\"\"\n",
    "    # YOUR CODE HERE\n",
    "    if A in csp.neighbours(B):\n",
    "        if a == b:\n",
    "            return False\n",
    "    if a not in domain or b not in domain:\n",
    "        return False\n",
    "    return True\n",
    "    #raise NotImplementedError()\n",
    "\n",
    "# YOUR CODE HERE\n",
    "#raise NotImplementedError()"
   ]
  },
  {
   "cell_type": "code",
   "execution_count": null,
   "id": "2723a715",
   "metadata": {
    "deletable": false,
    "editable": false,
    "nbgrader": {
     "cell_type": "code",
     "checksum": "3fd7eb25b78b3aeecf1877c75abba3be",
     "grade": true,
     "grade_id": "test_csp_colourability_B0",
     "locked": true,
     "points": 5,
     "schema_version": 3,
     "solution": false,
     "task": false
    }
   },
   "outputs": [],
   "source": []
  },
  {
   "cell_type": "markdown",
   "id": "287c1eb3",
   "metadata": {
    "deletable": false,
    "editable": false,
    "nbgrader": {
     "cell_type": "markdown",
     "checksum": "1019a67e8a28eedfadb9b753019d6040",
     "grade": false,
     "grade_id": "taskheader_2",
     "locked": true,
     "schema_version": 3,
     "solution": false,
     "task": false
    }
   },
   "source": [
    "# Task 2\n",
    "\n",
    "**[55 Point(s)]**"
   ]
  },
  {
   "cell_type": "markdown",
   "id": "5ab6b41d",
   "metadata": {
    "deletable": false,
    "editable": false,
    "nbgrader": {
     "cell_type": "markdown",
     "checksum": "1d2948d3cf2dfa3257b8199bad8e57c2",
     "grade": false,
     "grade_id": "csp_backtracking_Acsp_backtracking_Bcsp_backtracking_Ccsp_backtracking_Dcsp_backtracking_Ecsp_backtracking_F_Header",
     "locked": true,
     "schema_version": 3,
     "solution": false,
     "task": false
    }
   },
   "source": [
    "\n",
    "# Backtracking Search\n",
    "\n",
    "Backtracking search for CSPs is the basic *uninformed* algorithm for solving a CSP. It is nothing but a **Depth-first search** with single variable assignment per step. It is based on the fact that variable assignments are *commutative* for CSPs.\n",
    "\n",
    "In the following tasks you will implement the backtracking search algorithm as introduced in the lecture and then improve it by introducing additional heuristics."
   ]
  },
  {
   "cell_type": "markdown",
   "id": "c9fc5541",
   "metadata": {
    "deletable": false,
    "editable": false,
    "nbgrader": {
     "cell_type": "markdown",
     "checksum": "74ec5f43a948fb2a83261e4bb424aab8",
     "grade": false,
     "grade_id": "taskheader_2_1",
     "locked": true,
     "schema_version": 3,
     "solution": false,
     "task": false
    }
   },
   "source": [
    "## Task 2.1\n",
    "\n",
    "**[20 Point(s)]**"
   ]
  },
  {
   "cell_type": "markdown",
   "id": "868028b9",
   "metadata": {
    "deletable": false,
    "editable": false,
    "nbgrader": {
     "cell_type": "markdown",
     "checksum": "982501b4dc60ef0aee54cfd0c904af8e",
     "grade": false,
     "grade_id": "csp_backtracking_A_Description0",
     "locked": true,
     "schema_version": 3,
     "solution": false,
     "task": false
    }
   },
   "source": [
    "### Networkx Coloring\n",
    "\n",
    "Since our CSP is defined as a `networkx` graph, there is a very convenient way for defining a particular variable assignment. Namely, `networkx` supports a `color_map` attribute when drawing the graph. It is simply a list of `str`, representing valid colors in `matplotlib` (you can find a list [here](https://matplotlib.org/stable/gallery/color/named_colors.html)).\n",
    "\n",
    "The colors are **mapped by order** to the vertices in the graph.\n",
    "\n",
    "> **REMARK** In order to minimize the number of times you recreate a list using `append` you should instead initialize the list once and then access and change it by index.\n",
    "\n",
    "We will make use of this `color_map` attribute as the representation of our current variable assignment. Where an **unassigned variable** takes the color **white**.\n",
    "\n",
    "You can find an example of the usage below."
   ]
  },
  {
   "cell_type": "code",
   "execution_count": null,
   "id": "8e715233",
   "metadata": {
    "ExecuteTime": {
     "end_time": "2024-12-01T12:21:36.192980Z",
     "start_time": "2024-12-01T12:21:36.192967Z"
    },
    "deletable": false,
    "editable": false,
    "nbgrader": {
     "cell_type": "code",
     "checksum": "a6c793590bac0ded92d0fad1cf70ed02",
     "grade": false,
     "grade_id": "csp_backtracking_A_Description1",
     "locked": true,
     "schema_version": 3,
     "solution": false,
     "task": false
    }
   },
   "outputs": [],
   "source": [
    "import networkx as nx\n",
    "import matplotlib.pyplot as plt\n",
    "\n",
    "# Construct a random test graph\n",
    "G = nx.erdos_renyi_graph(20, 0.1)\n",
    "\n",
    "# Initialize color map\n",
    "color_map = []\n",
    "\n",
    "# Iterate over the vertices of the graph\n",
    "for v in G:\n",
    "    if v < 5:\n",
    "        # assign white color to node\n",
    "        color_map.append('white')\n",
    "    elif v < 10:\n",
    "        # assign blue color to node\n",
    "        color_map.append('C0')\n",
    "    else:\n",
    "        # assign oragne color to node\n",
    "        color_map.append('C1')      \n",
    "nx.draw(G, node_color=color_map, edgecolors='black', with_labels=True)\n",
    "plt.show()"
   ]
  },
  {
   "cell_type": "markdown",
   "id": "9b537e61",
   "metadata": {
    "deletable": false,
    "editable": false,
    "nbgrader": {
     "cell_type": "markdown",
     "checksum": "4070c60e255d3e00d7c8a37e690bc2bd",
     "grade": false,
     "grade_id": "csp_backtracking_A_Description2",
     "locked": true,
     "schema_version": 3,
     "solution": false,
     "task": false
    }
   },
   "source": [
    "### Keeping Track of Parameters\n",
    "\n",
    "While implementing some of the algorithms, you might have to store certain parameters, asserted to a particular node. You can do this using `networkx` by using [`set_node_attributes`](https://networkx.org/documentation/stable/reference/generated/networkx.classes.function.set_node_attributes.html). Since the graph consists of homogeneous nodes, they always have to have the same paramters. However, the values of each individual node can be set and also changed."
   ]
  },
  {
   "cell_type": "code",
   "execution_count": null,
   "id": "30c660e2",
   "metadata": {
    "ExecuteTime": {
     "end_time": "2024-12-01T12:21:36.194161Z",
     "start_time": "2024-12-01T12:21:36.194146Z"
    },
    "deletable": false,
    "editable": false,
    "nbgrader": {
     "cell_type": "code",
     "checksum": "8d010115cd6014dd7f272667588325e1",
     "grade": false,
     "grade_id": "csp_backtracking_A_Description3",
     "locked": true,
     "schema_version": 3,
     "solution": false,
     "task": false
    }
   },
   "outputs": [],
   "source": [
    "import networkx as nx\n",
    "\n",
    "# Set node attribute for graph initially\n",
    "G = nx.path_graph(3)\n",
    "nx.set_node_attributes(G, {0: ['C0', 'C1'], 1: ['C2', 'C3'], 2: ['C4', 'C5']}, \"curr_domain\")\n",
    "print(f\"At creation: {G.nodes[0]['curr_domain']}\")\n",
    "\n",
    "# Update attribute value of single node\n",
    "G.nodes[0][\"curr_domain\"] = []\n",
    "print(f\"After update: {G.nodes[0]['curr_domain']}\")"
   ]
  },
  {
   "cell_type": "markdown",
   "id": "afc3d25a",
   "metadata": {
    "deletable": false,
    "editable": false,
    "nbgrader": {
     "cell_type": "markdown",
     "checksum": "dfb4c88c914366501a5c3d94b6e85d3b",
     "grade": false,
     "grade_id": "csp_backtracking_A_Description4",
     "locked": true,
     "schema_version": 3,
     "solution": false,
     "task": false
    }
   },
   "source": [
    "## Implementing Backtracking Search [20 Points]\n",
    "\n",
    "```\n",
    "function Backtracking-Search(csp) returns solution/failure\n",
    "    return Recursive-Backtracking({ }, csp)\n",
    "function Recursive-Backtracking(assignment, csp) returns soln/failure\n",
    "    if assignment is complete then return assignment\n",
    "    var ← Select-Unassigned-Variable(Variables[csp], assignment, csp)\n",
    "    for each value in Order-Domain-Values(var, assignment, csp) do\n",
    "        if value is consistent with assignment given Constraints[csp] then\n",
    "            add {var = value} to assignment\n",
    "            result ← Recursive-Backtracking(assignment, csp)\n",
    "            if result 6 != failure then return result\n",
    "            remove {var = value} from assignment\n",
    "    return failure\n",
    "```\n",
    "\n",
    "Please implement the backtracking search algorithm by **completing the functions outlined below**!"
   ]
  },
  {
   "cell_type": "code",
   "execution_count": 13,
   "id": "ce74f12f",
   "metadata": {
    "ExecuteTime": {
     "end_time": "2024-12-01T12:25:34.795470Z",
     "start_time": "2024-12-01T12:25:34.776388Z"
    },
    "deletable": false,
    "nbgrader": {
     "cell_type": "code",
     "checksum": "619d0d797e07e64fd7abcd6776049609",
     "grade": false,
     "grade_id": "csp_backtracking_A",
     "locked": false,
     "schema_version": 3,
     "solution": true,
     "task": false
    }
   },
   "outputs": [],
   "source": [
    "import networkx as nx\n",
    "from networkx.classes.graph import Graph\n",
    "from typing import List, Optional, Set, Callable\n",
    "\n",
    "\n",
    "def no_inference(csp: Graph, var: str, value: str, assignment: List[str], removals: List[str]) -> bool:\n",
    "    \"\"\"Inference function that does not perform any inference. It is a placeholder that can be used instead\n",
    "    of the forward checking mechanism in the initial naive implementation of backtracking in order to make\n",
    "    the interface more consistent.\n",
    "    \n",
    "    Generally, your inferencing function wnats to prune neighbor values inconsistent with var=value.\n",
    "    \n",
    "    This function should be used AS IS!\n",
    "    \n",
    "    Args:\n",
    "        csp: The CSP formalised as a graph.\n",
    "        var: ID of the vertex that represents the variable.\n",
    "        value: the value supposed for the vairable 'var'.\n",
    "        assignment: A variable assignment.\n",
    "        removals: List of tuples containing a variable index and the respective assignment, which should be\n",
    "        removed from the list of possible assignments for this variable.\n",
    "\n",
    "    Returns:\n",
    "        True, if the assignment of the value to the variable 'var' does not lead to an empty set of possible\n",
    "        assignments for any neighbout variable of 'var'.\n",
    "        Else, False.\n",
    "    \"\"\"\n",
    "    return True\n",
    "\n",
    "\n",
    "def first_unassigned_variable(csp: Graph, domain: Set[str], assignment: List[str]) -> str:\n",
    "    \"\"\"The default variable order.\n",
    "    Args:\n",
    "        csp: The CSP formalised as a graph.\n",
    "        domain: A set of allowed values for the CSP.\n",
    "        assignment: A variable assignment.\n",
    "\n",
    "    Returns:\n",
    "        The ID of the first unassigned vertex in the CSP graph.\n",
    "    \"\"\"\n",
    "    # YOUR CODE HERE\n",
    "    for node in csp.nodes():\n",
    "        if assignment[csp.nodes[node]['index']] == 'white':\n",
    "            return node\n",
    "    return None\n",
    "    #raise NotImplementedError()\n",
    "\n",
    "\n",
    "def unordered_domain_values(csp: Graph, var: str, domain: Set[str], assignment: List[str]) -> List[str]:\n",
    "    \"\"\"Return all values for var that aren't currently ruled out.\n",
    "    Args:\n",
    "        csp: The CSP formalised as a graph.\n",
    "        var: ID of the vertex that represents the variable.\n",
    "        domain: A set of allowed values for the CSP.\n",
    "        assignment: A variable assignment.\n",
    "\n",
    "    Returns:\n",
    "        All possible values for var that aren't currently ruled out.\n",
    "    \"\"\"\n",
    "    # YOUR CODE HERE\n",
    "    assigned_neighbors = {\n",
    "        assignment[csp.nodes[neighbor]['index']]\n",
    "        for neighbor in csp.neighbors(var)\n",
    "        if assignment[csp.nodes[neighbor]['index']] != 'white'\n",
    "    }\n",
    "    # Filter out values that are already assigned to neighbors\n",
    "    return [value for value in domain if value not in assigned_neighbors]\n",
    "    #raise NotImplementedError()\n",
    "\n",
    "\n",
    "def backtracking_search(domain: Set[str], assignment: List[str], csp: Graph,\n",
    "                        select_unassigned_variable: Callable = first_unassigned_variable,\n",
    "                        order_domain_values: Callable = unordered_domain_values,\n",
    "                        inference: Callable = no_inference) -> Optional[List[str]]:\n",
    "    \"\"\" Implement the backtracking search algorithm to find a solution to an arbitrary CSP.\n",
    "    Args:\n",
    "        domain: A set of allowed values for the CSP.\n",
    "        assignment: A variable assignment.\n",
    "        csp: The CSP formalised as a graph.\n",
    "        select_unassigned_variable: The function that returns the next variable for assignment.\n",
    "        order_domain_values: The function that returns the value that should be assigned\n",
    "        inference: Function for performing inference on the validaty of the new value assignment before\n",
    "        continuing with the search\n",
    "\n",
    "    Returns:\n",
    "        One possible colouring found by the algorithm, or None of there exists no possible colouring.\n",
    "    \"\"\"\n",
    "    # YOUR CODE HERE\n",
    "    if 'white' not in assignment:\n",
    "        return assignment\n",
    "\n",
    "    # Default variable selection heuristic: first unassigned variable\n",
    "    var = select_unassigned_variable(csp, domain, assignment) if select_unassigned_variable else next(\n",
    "        node for node in csp.nodes if assignment[csp.nodes[node]['index']] == 'white')\n",
    "    var_index = csp.nodes[var]['index']\n",
    "\n",
    "    # Default value ordering heuristic: unordered domain values\n",
    "    values = order_domain_values(csp, var, domain, assignment) if order_domain_values else list(domain)\n",
    "\n",
    "    for value in values:\n",
    "        if all(\n",
    "            assignment[csp.nodes[neighbor]['index']] != value\n",
    "            for neighbor in csp.neighbors(var)\n",
    "        ):\n",
    "            assignment[var_index] = value\n",
    "\n",
    "            removals = []\n",
    "            if inference is None or inference(csp, var, value, assignment, removals):\n",
    "                result = backtracking_search(domain, assignment, csp,\n",
    "                                             select_unassigned_variable,\n",
    "                                             order_domain_values,\n",
    "                                             inference)\n",
    "                if result:\n",
    "                    return result\n",
    "\n",
    "            assignment[var_index] = 'white'\n",
    "            for neighbor, pruned_value in removals:\n",
    "                csp.nodes[neighbor]['domain'].add(pruned_value)\n",
    "\n",
    "    return None\n",
    "    #raise NotImplementedError()\n",
    "\n",
    "# YOUR CODE HERE\n",
    "#raise NotImplementedError()"
   ]
  },
  {
   "cell_type": "code",
   "execution_count": null,
   "id": "6b1f708e",
   "metadata": {
    "deletable": false,
    "editable": false,
    "nbgrader": {
     "cell_type": "code",
     "checksum": "1b709c7359c6a2d3570ac2b77306dccc",
     "grade": true,
     "grade_id": "test_csp_backtracking_A0",
     "locked": true,
     "points": 20,
     "schema_version": 3,
     "solution": false,
     "task": false
    }
   },
   "outputs": [],
   "source": []
  },
  {
   "cell_type": "markdown",
   "id": "7223dc52",
   "metadata": {
    "deletable": false,
    "editable": false,
    "nbgrader": {
     "cell_type": "markdown",
     "checksum": "a183b8cba1605e5808b21cbde2cb71eb",
     "grade": false,
     "grade_id": "taskheader_2_2",
     "locked": true,
     "schema_version": 3,
     "solution": false,
     "task": false
    }
   },
   "source": [
    "## Task 2.2\n",
    "\n",
    "**[5 Point(s)]**"
   ]
  },
  {
   "cell_type": "markdown",
   "id": "7c2e9f01",
   "metadata": {
    "deletable": false,
    "editable": false,
    "nbgrader": {
     "cell_type": "markdown",
     "checksum": "84b1bfa0906f1db1082d6ae9b54560e3",
     "grade": false,
     "grade_id": "csp_backtracking_B_Description0",
     "locked": true,
     "schema_version": 3,
     "solution": false,
     "task": false
    }
   },
   "source": [
    "## Applying Backtracking to the Germany Colouring Problem [5 Points]\n",
    "\n",
    "Now apply the initial backtracking search algorithm to the Germany example that you have formalised as a graph before.\n",
    "\n",
    "Make sure to use the `domain` variable to store the allowed values, in our case colors, to be used in the search for a solution.\n",
    "\n",
    "Please store your graph in `G` and your final colouring in the `colouring` variable!"
   ]
  },
  {
   "cell_type": "code",
   "execution_count": 14,
   "id": "e452eb45",
   "metadata": {
    "ExecuteTime": {
     "end_time": "2024-12-01T12:25:39.295597Z",
     "start_time": "2024-12-01T12:25:39.064189Z"
    },
    "deletable": false,
    "nbgrader": {
     "cell_type": "code",
     "checksum": "2d5b4c31b3dca332907aba1e816df10e",
     "grade": false,
     "grade_id": "csp_backtracking_B",
     "locked": false,
     "schema_version": 3,
     "solution": true,
     "task": false
    }
   },
   "outputs": [
    {
     "data": {
      "image/png": "[encoded data removed]",
      "text/plain": [
       "<Figure size 1200x800 with 1 Axes>"
      ]
     },
     "metadata": {},
     "output_type": "display_data"
    }
   ],
   "source": [
    "\n",
    "G = None\n",
    "colouring = []\n",
    "\n",
    "# Set of allowed colors\n",
    "domain = set()\n",
    "\n",
    "# YOUR CODE HERE\n",
    "# Define the German states and their neighbors\n",
    "provinces = ['BW', 'BY', 'BE', 'BB', 'HB', 'HH', 'HE', 'MV', 'NI', 'NW', 'RP', 'SL', 'SN', 'ST', 'SH', 'TH']\n",
    "neighbors = [\n",
    "    ('BW', 'BY'), ('BW', 'HE'), ('BW', 'RP'),\n",
    "    ('BY', 'HE'), ('BY', 'TH'), ('BY', 'SN'),\n",
    "    ('BE', 'BB'), ('BB', 'MV'), ('BB', 'SN'), ('BB', 'ST'),\n",
    "    ('HB', 'NI'), ('HH', 'NI'), ('HH', 'SH'),\n",
    "    ('HE', 'NI'), ('HE', 'NW'), ('HE', 'RP'), ('HE', 'TH'),\n",
    "    ('MV', 'NI'), ('MV', 'SH'), ('MV', 'BB'),\n",
    "    ('NI', 'NW'), ('NI', 'SH'), ('NI', 'ST'),\n",
    "    ('NW', 'RP'), ('NW', 'SL'), ('RP', 'SL'),\n",
    "    ('RP', 'HE'), ('SN', 'ST'), ('SN', 'TH'), ('ST', 'TH')\n",
    "]\n",
    "\n",
    "# Create the graph\n",
    "G = nx.Graph()\n",
    "G.add_edges_from(neighbors)\n",
    "G.add_nodes_from(provinces)  # Add nodes to ensure all provinces are included\n",
    "\n",
    "# Assign indices to nodes for mapping\n",
    "for i, node in enumerate(G.nodes()):\n",
    "    G.nodes[node]['index'] = i\n",
    "\n",
    "# Define the domain and initialize the assignment\n",
    "domain = {'C0', 'C1', 'C2', 'C3', 'C4', 'C5', 'C6'}\n",
    "assignment = ['white'] * len(G.nodes)\n",
    "\n",
    "# Solve the CSP using backtracking\n",
    "colouring = backtracking_search(domain, assignment, G, first_unassigned_variable, unordered_domain_values, no_inference)\n",
    "\n",
    "# Draw the graph with the assigned colors\n",
    "if colouring:\n",
    "\n",
    "    # Generate node colors for visualization\n",
    "    node_colors = [\n",
    "        colouring[G.nodes[node]['index']] if colouring[G.nodes[node]['index']] != 'white' else 'gray'\n",
    "        for node in G.nodes\n",
    "    ]\n",
    "\n",
    "    # Draw the graph\n",
    "    plt.figure(figsize=(12, 8))\n",
    "    nx.draw(\n",
    "        G,\n",
    "        with_labels=True,\n",
    "        node_color=colouring,\n",
    "        node_size=2000,\n",
    "        font_size=10,\n",
    "        font_color='white',\n",
    "        edge_color='black'\n",
    "    )\n",
    "    plt.title(\"Colored Map of Germany\")\n",
    "    plt.show()\n",
    "else:\n",
    "    print(\"No valid coloring found.\")\n",
    "#raise NotImplementedError()"
   ]
  },
  {
   "cell_type": "code",
   "execution_count": null,
   "id": "1a93115f",
   "metadata": {
    "deletable": false,
    "editable": false,
    "nbgrader": {
     "cell_type": "code",
     "checksum": "fd511bee6f192b9708e69ba7f737e5b9",
     "grade": true,
     "grade_id": "test_csp_backtracking_B0",
     "locked": true,
     "points": 5,
     "schema_version": 3,
     "solution": false,
     "task": false
    }
   },
   "outputs": [],
   "source": []
  },
  {
   "cell_type": "markdown",
   "id": "449b3706",
   "metadata": {
    "deletable": false,
    "editable": false,
    "nbgrader": {
     "cell_type": "markdown",
     "checksum": "414bc309c896d1afeba9ab317e3fe9ee",
     "grade": false,
     "grade_id": "taskheader_2_3",
     "locked": true,
     "schema_version": 3,
     "solution": false,
     "task": false
    }
   },
   "source": [
    "## Task 2.3\n",
    "\n",
    "**[10 Point(s)]**"
   ]
  },
  {
   "cell_type": "markdown",
   "id": "2e0b75d1",
   "metadata": {
    "deletable": false,
    "editable": false,
    "nbgrader": {
     "cell_type": "markdown",
     "checksum": "5b063ff387aca7bce0efa67482fb1aeb",
     "grade": false,
     "grade_id": "csp_backtracking_C_Description0",
     "locked": true,
     "schema_version": 3,
     "solution": false,
     "task": false
    }
   },
   "source": [
    "## Improving Backtracking Efficiency [10 Points]\n",
    "\n",
    "As you have probably noticed, the naive backtracking algorithm is not too efficient. However, there are some easy extension which can make it find a solution a lot quicker.\n",
    "\n",
    "The two heuristics that were introduced to you in the lecuture are\n",
    "1. Minimum Remaining Values (MRV) heuristic\n",
    "1. Least Constraining Value (LCV) heuristic\n",
    "\n",
    "You should now implement both of them **by completing the functions outlined below**!"
   ]
  },
  {
   "cell_type": "code",
   "execution_count": 15,
   "id": "b366e699",
   "metadata": {
    "ExecuteTime": {
     "end_time": "2024-12-01T12:25:46.565295Z",
     "start_time": "2024-12-01T12:25:46.550237Z"
    },
    "deletable": false,
    "nbgrader": {
     "cell_type": "code",
     "checksum": "4fdbb74ad96d577637d7e05358ff128e",
     "grade": false,
     "grade_id": "csp_backtracking_C",
     "locked": false,
     "schema_version": 3,
     "solution": true,
     "task": false
    }
   },
   "outputs": [],
   "source": [
    "import networkx as nx\n",
    "from networkx.classes.graph import Graph\n",
    "from typing import List, Optional, Set\n",
    "\n",
    "def mrv(csp: Graph, domain: Set[str], assignment: List[str]) -> str:\n",
    "    \"\"\"Minimum-remaining-values heuristic.\n",
    "    Args:\n",
    "        csp: The CSP formalised as a graph.\n",
    "        domain: A set of allowed values for the CSP.\n",
    "        assignment: A variable assignment.\n",
    "\n",
    "    Returns:\n",
    "        The ID of the vertex, corresponding to the variable which has the minimum legal values remaining\n",
    "        for assignment. \n",
    "    \"\"\"\n",
    "    # YOUR CODE HERE\n",
    "    # Track the variable with the smallest number of legal values remaining\n",
    "    min_remaining_values = float('inf')\n",
    "    best_variable = None\n",
    "\n",
    "    # Iterate through all variables in the CSP\n",
    "    for node in csp.nodes:\n",
    "        # Get the index of the current variable\n",
    "        node_index = csp.nodes[node]['index']\n",
    "\n",
    "        # Skip variables that are already assigned\n",
    "        if assignment[node_index] != 'white':\n",
    "            continue\n",
    "\n",
    "        # Count the number of legal values left in the domain for this variable\n",
    "        remaining_values = len([\n",
    "            value for value in domain\n",
    "            if all(\n",
    "                assignment[csp.nodes[neighbor]['index']] != value  # Ensure no neighbors conflict\n",
    "                for neighbor in csp.neighbors(node)\n",
    "            )\n",
    "        ])\n",
    "\n",
    "        # Update the variable with the smallest domain size\n",
    "        if remaining_values < min_remaining_values:\n",
    "            min_remaining_values = remaining_values\n",
    "            best_variable = node\n",
    "\n",
    "    return best_variable\n",
    "    #raise NotImplementedError()\n",
    "\n",
    "\n",
    "def lcv(csp: Graph, var: str, domain: Set[str], assignment: List[str]) -> str:\n",
    "    \"\"\"Least-constraining-values heuristic.\n",
    "    Args:\n",
    "        csp: The CSP formalised as a graph.\n",
    "        var: ID of the vertex that represents the variable.\n",
    "        domain: A set of allowed values for the CSP.\n",
    "        assignment: A variable assignment.\n",
    "\n",
    "    Returns:\n",
    "        The least constraining value for the given variable.\n",
    "    \"\"\"\n",
    "    # YOUR CODE HERE\n",
    "    value_constraints = []\n",
    "\n",
    "    for value in domain:\n",
    "        conflicts = 0\n",
    "        for neighbor in csp.neighbors(var):\n",
    "            neighbor_index = csp.nodes[neighbor]['index']\n",
    "            if assignment[neighbor_index] != 'white':\n",
    "                continue\n",
    "\n",
    "            neighbor_domain = csp.nodes[neighbor].get('domain', domain)\n",
    "            if value in neighbor_domain:\n",
    "                conflicts += 1\n",
    "\n",
    "        value_constraints.append((value, conflicts))\n",
    "\n",
    "    # Sort the values based on the number of conflicts (fewer conflicts first)\n",
    "    value_constraints.sort(key=lambda x: x[1])\n",
    "\n",
    "    # Extract and return the sorted values\n",
    "    return [value for value, _ in value_constraints]\n",
    "    #raise NotImplementedError()"
   ]
  },
  {
   "cell_type": "code",
   "execution_count": null,
   "id": "a610a246",
   "metadata": {
    "deletable": false,
    "editable": false,
    "nbgrader": {
     "cell_type": "code",
     "checksum": "d40b1a6e5ddf4cccfbb26623ebf65977",
     "grade": true,
     "grade_id": "test_csp_backtracking_C0",
     "locked": true,
     "points": 10,
     "schema_version": 3,
     "solution": false,
     "task": false
    }
   },
   "outputs": [],
   "source": []
  },
  {
   "cell_type": "markdown",
   "id": "aae8a8ab",
   "metadata": {
    "deletable": false,
    "editable": false,
    "nbgrader": {
     "cell_type": "markdown",
     "checksum": "18a653d8b1db881522197cab52b95c2b",
     "grade": false,
     "grade_id": "taskheader_2_4",
     "locked": true,
     "schema_version": 3,
     "solution": false,
     "task": false
    }
   },
   "source": [
    "## Task 2.4\n",
    "\n",
    "**[10 Point(s)]**"
   ]
  },
  {
   "cell_type": "markdown",
   "id": "664f0270",
   "metadata": {
    "deletable": false,
    "editable": false,
    "nbgrader": {
     "cell_type": "markdown",
     "checksum": "745daca79da0e5a34d19172459cbd416",
     "grade": false,
     "grade_id": "csp_backtracking_D_Description0",
     "locked": true,
     "schema_version": 3,
     "solution": false,
     "task": false
    }
   },
   "source": [
    "## Inferencing\n",
    "\n",
    "Next to using heuristics for identifying the next variable for assignment, as well as the respective value for assignment, there is also a technique for ruling out *some* early failures without the need to extending the backtracking search until a point of failure.\n",
    "\n",
    "1. Forward Checking\n",
    "\n",
    "In the following cell you find a function signature for the forward checking algorithm. Please **implement it accrodingly**.\n",
    "\n",
    "Keep in mind, that we have defined a **common interface** for *inference* functions above with the `no_inference` function. `forward_checking` now makes use of the same argument structure in order to allow the backtracking search algorithm to call either of them interchangably.\n",
    "\n",
    "Remember also, that you have defined the function `constraints` before, you might want to consider using it here too."
   ]
  },
  {
   "cell_type": "code",
   "execution_count": 16,
   "id": "a2200f5f",
   "metadata": {
    "ExecuteTime": {
     "end_time": "2024-12-01T12:25:58.912959Z",
     "start_time": "2024-12-01T12:25:58.906519Z"
    },
    "deletable": false,
    "nbgrader": {
     "cell_type": "code",
     "checksum": "41289ba80e92621eb5bb5180a6643b81",
     "grade": false,
     "grade_id": "csp_backtracking_D",
     "locked": false,
     "schema_version": 3,
     "solution": true,
     "task": false
    }
   },
   "outputs": [],
   "source": [
    "from typing import Tuple\n",
    "def forward_checking(csp: Graph, var: str, value: str, assignment: List[str],\n",
    "                     removals: List[Tuple[str, str]]) -> bool:\n",
    "    \"\"\"Prune neighbor values inconsistent with var=value.\n",
    "    Args:\n",
    "        csp: The CSP formalised as a graph.\n",
    "        var: ID of the vertex that represents the variable.\n",
    "        value: the value supposed for the vairable 'var'.\n",
    "        assignment: A variable assignment.\n",
    "        removals: List of tuples containing a variable ID and the respective assignment, which should be\n",
    "        removed from the list of possible assignments for this variable.\n",
    "\n",
    "    Returns:\n",
    "        True, if the assignment of the value to the variable 'var' does not lead to an empty set of possible\n",
    "        assignments for any neighbour variable of 'var'.\n",
    "        Else, False.\n",
    "    \"\"\"\n",
    "    # YOUR CODE HERE\n",
    "    for neighbor in csp.neighbors(var):\n",
    "        neighbor_index = csp.nodes[neighbor]['index']\n",
    "        \n",
    "        # Skip already assigned neighbors\n",
    "        if assignment[neighbor_index] != 'white':\n",
    "            continue\n",
    "\n",
    "        # Get the domain of the neighbor\n",
    "        neighbor_domain = {value for value in csp.nodes[neighbor].get('domain', [])}\n",
    "\n",
    "        # Prune the value that conflicts with the current assignment\n",
    "        if value in neighbor_domain:\n",
    "            neighbor_domain.remove(value)\n",
    "            removals.append((neighbor, value))  # Track the removal for backtracking\n",
    "\n",
    "        # If the neighbor's domain is empty after pruning, return False\n",
    "        if not neighbor_domain:\n",
    "            return False\n",
    "\n",
    "        # Update the neighbor's domain\n",
    "        csp.nodes[neighbor]['domain'] = neighbor_domain\n",
    "\n",
    "    return True\n",
    "    #raise NotImplementedError()"
   ]
  },
  {
   "cell_type": "code",
   "execution_count": null,
   "id": "4e29d387",
   "metadata": {
    "deletable": false,
    "editable": false,
    "nbgrader": {
     "cell_type": "code",
     "checksum": "9605fd33d38032dd63462352c53197a4",
     "grade": true,
     "grade_id": "test_csp_backtracking_D0",
     "locked": true,
     "points": 10,
     "schema_version": 3,
     "solution": false,
     "task": false
    }
   },
   "outputs": [],
   "source": []
  },
  {
   "cell_type": "markdown",
   "id": "e2238560",
   "metadata": {
    "deletable": false,
    "editable": false,
    "nbgrader": {
     "cell_type": "markdown",
     "checksum": "2bd81a3f93c50d79a103e109619acee7",
     "grade": false,
     "grade_id": "taskheader_2_5",
     "locked": true,
     "schema_version": 3,
     "solution": false,
     "task": false
    }
   },
   "source": [
    "## Task 2.5\n",
    "\n",
    "**[5 Point(s)]**"
   ]
  },
  {
   "cell_type": "markdown",
   "id": "e7734ff9",
   "metadata": {
    "deletable": false,
    "editable": false,
    "nbgrader": {
     "cell_type": "markdown",
     "checksum": "da19f6b758979f08514e9a5eac5cc356",
     "grade": false,
     "grade_id": "csp_backtracking_E_Description0",
     "locked": true,
     "schema_version": 3,
     "solution": false,
     "task": false
    }
   },
   "source": [
    "## Apply the Enhanced Backtracking Search [5 Points]\n",
    "\n",
    "With the heuristics and inferencing methods in place, now rerun the coloring, using:\n",
    "\n",
    "1. MRV\n",
    "1. LCV\n",
    "1. FC\n",
    "1. MRV, LCV\n",
    "1. MRV, LCV, FC\n",
    "\n",
    "Keep track of the execution times of each variant and print them!\n",
    "\n",
    "> As the graph used as an example here is too small to see the expected effects, we will use large random graphs instead. Please see below for code snippets to generate them."
   ]
  },
  {
   "cell_type": "markdown",
   "id": "71f53e11",
   "metadata": {
    "deletable": false,
    "editable": false,
    "nbgrader": {
     "cell_type": "markdown",
     "checksum": "9b8ff8d0a670b716b3bbd3c888402576",
     "grade": false,
     "grade_id": "csp_backtracking_E_Description1",
     "locked": true,
     "schema_version": 3,
     "solution": false,
     "task": false
    }
   },
   "source": [
    "Generating a random graph with a fixed degree can be done in `networkX` by using:"
   ]
  },
  {
   "cell_type": "code",
   "execution_count": null,
   "id": "b53b0f88",
   "metadata": {
    "ExecuteTime": {
     "end_time": "2024-12-01T12:21:36.199102Z",
     "start_time": "2024-12-01T12:21:36.199087Z"
    }
   },
   "outputs": [],
   "source": [
    "n = 1000\n",
    "z = [6 for i in range(n)]\n",
    "G = nx.configuration_model(z)"
   ]
  },
  {
   "cell_type": "markdown",
   "id": "c230e016",
   "metadata": {
    "deletable": false,
    "editable": false,
    "nbgrader": {
     "cell_type": "markdown",
     "checksum": "0c5da7bd03240ac93dd5e7531954d27b",
     "grade": false,
     "grade_id": "csp_backtracking_E_Description2",
     "locked": true,
     "schema_version": 3,
     "solution": false,
     "task": false
    }
   },
   "source": [
    "However, to define a little more sophisticated graphs that do not have a constant degree and also do not include self loops, which could potentially break the algorithm, it is suggested to use the following snippet to generate random large test graphs for the evaluation of the algorithm:"
   ]
  },
  {
   "cell_type": "code",
   "execution_count": null,
   "id": "e27fad5c",
   "metadata": {
    "ExecuteTime": {
     "end_time": "2024-12-01T12:21:36.200258Z",
     "start_time": "2024-12-01T12:21:36.200246Z"
    }
   },
   "outputs": [],
   "source": [
    "import networkx as nx\n",
    "from networkx.utils import powerlaw_sequence\n",
    "\n",
    "n = 2000\n",
    "z = [min(i, 6) for i in powerlaw_sequence(n)]\n",
    "G = nx.expected_degree_graph(z, selfloops=False)\n",
    "\n",
    "print(\"Average Degree: \", sum(d for n, d in G.degree())/n)"
   ]
  },
  {
   "cell_type": "code",
   "execution_count": 17,
   "id": "bd583942",
   "metadata": {
    "ExecuteTime": {
     "end_time": "2024-12-01T12:26:39.753509Z",
     "start_time": "2024-12-01T12:26:03.932965Z"
    },
    "deletable": false,
    "nbgrader": {
     "cell_type": "code",
     "checksum": "ad73c92a341275eed3c3c10ca370d17e",
     "grade": true,
     "grade_id": "csp_backtracking_E",
     "locked": false,
     "points": 5,
     "schema_version": 3,
     "solution": true,
     "task": false
    }
   },
   "outputs": [
    {
     "name": "stdout",
     "output_type": "stream",
     "text": [
      "MRV: Solution Found, Time: 11.5445 seconds\n",
      "LCV: Solution Found, Time: 0.2598 seconds\n",
      "FC: Solution Found, Time: 0.1323 seconds\n",
      "MRV + LCV: Solution Found, Time: 11.7329 seconds\n",
      "MRV + LCV + FC: Solution Found, Time: 12.1152 seconds\n"
     ]
    }
   ],
   "source": [
    "import networkx as nx\n",
    "import time\n",
    "\n",
    "results = {}\n",
    "\n",
    "# YOUR CODE HERE\n",
    "n = 1000\n",
    "z = [6 for i in range(n)]\n",
    "G = nx.configuration_model(z)\n",
    "G = nx.Graph(G)\n",
    "G.remove_edges_from(nx.selfloop_edges(G))\n",
    "# Initialize domains and index for each node\n",
    "domain = {'C0', 'C1', 'C2', 'C3', 'C4', 'C5', 'C6'}  # Set of allowed colors\n",
    "for i, node in enumerate(G.nodes):\n",
    "    G.nodes[node]['index'] = i\n",
    "    G.nodes[node]['domain'] = set(domain)  # Add domain attribute to each node\n",
    "\n",
    "# Initialize the assignment (all unassigned as 'white')\n",
    "assignment = ['white'] * len(G.nodes)\n",
    "\n",
    "# Initialize domains and assignments\n",
    "for node in G.nodes:\n",
    "    G.nodes[node]['domain'] = set(domain)\n",
    "assignment = ['white'] * len(G.nodes)\n",
    "\n",
    "# Test different configurations\n",
    "tests = [\n",
    "    (\"MRV\", mrv, None, None),\n",
    "    (\"LCV\", None, lcv, None),\n",
    "    (\"FC\", None, None, forward_checking),\n",
    "    (\"MRV + LCV\", mrv, lcv, None),\n",
    "    (\"MRV + LCV + FC\", mrv, lcv, forward_checking)\n",
    "]\n",
    "\n",
    "for name, var_heuristic, value_heuristic, inference in tests:\n",
    "    start_time = time.time()\n",
    "    result = backtracking_search(domain, assignment[:], G,\n",
    "                                 select_unassigned_variable=var_heuristic,\n",
    "                                 order_domain_values=value_heuristic,\n",
    "                                 inference=inference)\n",
    "    end_time = time.time()\n",
    "    print(f\"{name}: {'Solution Found' if result else 'No Solution'}, Time: {end_time - start_time:.4f} seconds\")\n",
    "#raise NotImplementedError()"
   ]
  },
  {
   "cell_type": "markdown",
   "id": "ecf896ca",
   "metadata": {
    "deletable": false,
    "editable": false,
    "nbgrader": {
     "cell_type": "markdown",
     "checksum": "2e4ee0385c78dd9fc02b588e77d68b62",
     "grade": false,
     "grade_id": "taskheader_2_6",
     "locked": true,
     "schema_version": 3,
     "solution": false,
     "task": false
    }
   },
   "source": [
    "## Task 2.6\n",
    "\n",
    "**[5 Point(s)]**"
   ]
  },
  {
   "cell_type": "markdown",
   "id": "044d2b64",
   "metadata": {
    "deletable": false,
    "editable": false,
    "nbgrader": {
     "cell_type": "markdown",
     "checksum": "d76bde25ad24babd262da914338aaa0f",
     "grade": false,
     "grade_id": "csp_backtracking_F_Description0",
     "locked": true,
     "schema_version": 3,
     "solution": false,
     "task": false
    }
   },
   "source": [
    "## Evaluation [5 Points]\n",
    "\n",
    "1. What does the evaluation of the different variants of backtracking search tell us about the problem and the backtracking search algorithm as such?\n",
    "1. How does the use of suitable heuristics influence the algorithm?\n",
    "1. How does forward checking speed up the backtracking search? "
   ]
  },
  {
   "cell_type": "markdown",
   "id": "ea906a91",
   "metadata": {
    "deletable": false,
    "nbgrader": {
     "cell_type": "markdown",
     "checksum": "1be3dbe95b648e4025965f68de43290e",
     "grade": true,
     "grade_id": "csp_backtracking_F",
     "locked": false,
     "points": 5,
     "schema_version": 3,
     "solution": true,
     "task": false
    }
   },
   "source": [
    "1. What does the evaluation of the different variants of backtracking search tell us about the problem and the backtracking search algorithm as such?\n",
    "\n",
    "Since backtracking algorithms are exponential in nature and the branching factor, especially in lager number of inputs affects the performance time heavily, ligitimate heuristics and forwad-checking techniques can help prune invalid branches well in time and assissit in reducing the execution time significantly.\n",
    "\n",
    "1. How does the use of suitable heuristics influence the algorithm?\n",
    "\n",
    "The use of MRV an LCV can dramatically help increasing the efficieny of the backtracking algorithm by pruning unnecessary search space.\n",
    "\n",
    "1. How does forward checking speed up the backtracking search? \n",
    "\n",
    "This technique detects failures well in advance and saves time. Additionally, it prunes values from domians which takes a lot of burden of the remaining search task."
   ]
  },
  {
   "cell_type": "code",
   "execution_count": null,
   "id": "32b89269",
   "metadata": {},
   "outputs": [],
   "source": []
  },
  {
   "cell_type": "code",
   "execution_count": null,
   "id": "1ea504f3",
   "metadata": {},
   "outputs": [],
   "source": []
  }
 ],
 "metadata": {
  "kernelspec": {
   "display_name": "Python 3 (ipykernel)",
   "language": "python",
   "name": "python3"
  },
  "language_info": {
   "codemirror_mode": {
    "name": "ipython",
    "version": 3
   },
   "file_extension": ".py",
   "mimetype": "text/x-python",
   "name": "python",
   "nbconvert_exporter": "python",
   "pygments_lexer": "ipython3",
   "version": "3.11.4"
  }
 },
 "nbformat": 4,
 "nbformat_minor": 5
}
